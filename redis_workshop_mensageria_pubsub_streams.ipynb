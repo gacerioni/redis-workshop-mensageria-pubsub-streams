{
  "nbformat": 4,
  "nbformat_minor": 0,
  "metadata": {
    "colab": {
      "provenance": [],
      "authorship_tag": "ABX9TyNNWU+soa4Bp4lQq5BD4bWe",
      "include_colab_link": true
    },
    "kernelspec": {
      "name": "python3",
      "display_name": "Python 3"
    },
    "language_info": {
      "name": "python"
    }
  },
  "cells": [
    {
      "cell_type": "markdown",
      "metadata": {
        "id": "view-in-github",
        "colab_type": "text"
      },
      "source": [
        "<a href=\"https://colab.research.google.com/github/gacerioni/redis-workshop-mensageria-pubsub-streams/blob/master/redis_workshop_mensageria_pubsub_streams.ipynb\" target=\"_parent\"><img src=\"https://colab.research.google.com/assets/colab-badge.svg\" alt=\"Open In Colab\"/></a>"
      ]
    },
    {
      "cell_type": "markdown",
      "source": [
        "# Workshop - Mensageria com Listas, Pub/Sub e Streams\n",
        "\n",
        "![Redis](https://redis.io/wp-content/uploads/2024/04/Logotype.svg?auto=webp&quality=85,75&width=120)\n",
        "\n",
        "\n",
        "Bem-vind[ao]s ao Workshop! Vamos explorar como utilizar o Redis para mensageria e comunicação eficiente entre serviços. Vamos começar com o conceito de filas, avançando para Pub/Sub e Streams.\n",
        "\n",
        "Para uma experiência premium, como a que eu quero que vocês tenham, recomendo MUITO utilizar o Redis Insight (App ou Web) pra apoiar na visualização dos dados.\n",
        "\n",
        "https://redis.com/redis-enterprise/redis-insight/"
      ],
      "metadata": {
        "id": "PaDrL0yr4JMD"
      }
    },
    {
      "cell_type": "markdown",
      "source": [
        "## Objetivos do Workshop\n",
        "\n",
        "Este notebook irá fazer uma introdução ao uso de listas no Redis para implementar filas de mensagens. Em seguida, exploraremos o Pub/Sub e Streams para comunicação em tempo real e processamento de dados.\n",
        "\n",
        "\n",
        "\n",
        "Espero que gostem! 🖖"
      ],
      "metadata": {
        "id": "VOaVxLxn4W99"
      }
    },
    {
      "cell_type": "markdown",
      "source": [
        "## Setup Rápido - e testes pra ver se tá tudo redondo antes de iniciar o lab"
      ],
      "metadata": {
        "id": "xaMxm7Hk4e_q"
      }
    },
    {
      "cell_type": "code",
      "execution_count": null,
      "metadata": {
        "id": "7eUyLPIt4B90"
      },
      "outputs": [],
      "source": [
        "# Vamos instalar a lib do redis escolhida para o teste\n",
        "!pip install -q redis\n",
        "\n",
        "# E instalar a CLI, via redis-tools, que inclui a famosa redis-cli\n",
        "!apt-get update\n",
        "!apt-get install -y redis-tools"
      ]
    },
    {
      "cell_type": "markdown",
      "source": [
        "#### Configurando e testando a conexão com o seu Redis Cloud\n",
        "\n",
        "Coloque o endpoint host, port, e as credenciais pertinentes ao seu setup.\n",
        "\n",
        "Vou deixar o meu DB mesmo aqui, como referência."
      ],
      "metadata": {
        "id": "yuyjjRs7_o7g"
      }
    },
    {
      "cell_type": "code",
      "source": [
        "# Testando a redis-cli\n",
        "import os\n",
        "\n",
        "# Coloque aqui os dados do seu DB do Redis Cloud\n",
        "REDIS_HOST=\"redis-19581.c308.sa-east-1-1.ec2.redns.redis-cloud.com\"\n",
        "REDIS_PORT=19581\n",
        "REDIS_PASSWORD=\"nhtuquVSLbh2kUt2I86z5QwGu3KrcaYx\"\n",
        "\n",
        "# Caso o SSL esteja ativo pro endpoint, adicione --tls\n",
        "# Recomendo não misturar lé com cré aqui, visto que não vamos ter nenhuma informação sensível passando pelo fio.\n",
        "if REDIS_PASSWORD!=\"\":\n",
        "  os.environ[\"REDIS_CONN\"]=f\"-h {REDIS_HOST} -p {REDIS_PORT} -a {REDIS_PASSWORD} --no-auth-warning\"\n",
        "else:\n",
        "  os.environ[\"REDIS_CONN\"]=f\"-h {REDIS_HOST} -p {REDIS_PORT}\"\n",
        "\n",
        "# Caso o SSL esteja ativo pro endpoint, use rediss:// como o URL prefix\n",
        "REDIS_URL = f\"redis://:{REDIS_PASSWORD}@{REDIS_HOST}:{REDIS_PORT}\"\n",
        "INDEX_NAME = f\"qna:idx\"\n",
        "\n",
        "# Test a Redis connection\n",
        "!redis-cli $REDIS_CONN PING\n",
        "\n",
        "# DANGER ZONE - CASO QUEIRA DAR UM REFRESH GERAL\n",
        "# este comando abaixo ficará comentado, pois ele deleta todos os dados da sua base do Redis Cloud\n",
        "!redis-cli $REDIS_CONN FLUSHDB"
      ],
      "metadata": {
        "id": "1SuKwfQl_q-y"
      },
      "execution_count": null,
      "outputs": []
    },
    {
      "cell_type": "code",
      "source": [
        "# Testando via Python (redis-py)\n",
        "import redis\n",
        "r = redis.Redis(\n",
        "  host=REDIS_HOST,\n",
        "  port=REDIS_PORT,\n",
        "  password=REDIS_PASSWORD,\n",
        "  decode_responses=True)\n",
        "r.ping()"
      ],
      "metadata": {
        "id": "8zEP3io8_sjl"
      },
      "execution_count": null,
      "outputs": []
    },
    {
      "cell_type": "markdown",
      "source": [
        "# Parte Um - Introdução às Filas no Redis\n",
        "\n",
        "**Filas são uma estrutura de dados fundamental para a comunicação assíncrona entre serviços.**\\\n",
        "\n",
        "Em ciência da computação, uma fila é uma coleção de entidades mantidas em uma sequência, onde elementos são adicionados em uma extremidade da sequência e removidos da outra. Esta característica é conhecida como FIFO (First In, First Out), o que significa que o primeiro elemento adicionado à fila é o primeiro a ser removido.\n",
        "\n",
        "Filas são amplamente utilizadas na programação para organizar tarefas de forma sequencial. Um exemplo moderno é um sistema de venda de ingressos de futebol, onde os pedidos são enfileirados e processados na ordem em que são recebidos, garantindo que cada cliente receba seu ingresso corretamente e na sequência certa.\n"
      ],
      "metadata": {
        "id": "x2MEEdetAzxA"
      }
    },
    {
      "cell_type": "markdown",
      "source": [
        "## Criando uma Fila no Redis\n",
        "\n",
        "No Redis, usamos listas para implementar filas. Vamos começar criando uma fila e adicionando algumas mensagens."
      ],
      "metadata": {
        "id": "TrdUsK0NCAkH"
      }
    },
    {
      "cell_type": "code",
      "source": [
        "# Deletar a fila caso já exista, só pra não confundir a gente\n",
        "r.delete(\"minhafila\")\n",
        "\n",
        "# Adicionar elementos à fila (enqueue)\n",
        "r.lpush(\"minhafila\", \"Tarefa 1\")\n",
        "r.lpush(\"minhafila\", \"Tarefa 2\")\n",
        "r.lpush(\"minhafila\", \"Tarefa 3\")\n",
        "r.lpush(\"minhafila\", \"Tarefa 4\")\n",
        "r.lpush(\"minhafila\", \"Tarefa 5\")\n",
        "\n",
        "# Verificar os elementos na fila\n",
        "print(r.lrange(\"minhafila\", 0, -1))"
      ],
      "metadata": {
        "id": "soygXcrdCOqZ"
      },
      "execution_count": null,
      "outputs": []
    },
    {
      "cell_type": "markdown",
      "source": [
        "Neste exemplo, usamos o comando LPUSH para adicionar elementos à fila chamada \"minhafila\". Verificamos os elementos na fila usando o comando LRANGE, que retorna todos os elementos da lista."
      ],
      "metadata": {
        "id": "IcbMbpcoCc8a"
      }
    },
    {
      "cell_type": "markdown",
      "source": [
        "## Consumo de Mensagens/Elementos da Fila  (Dequeue)\n",
        "\n",
        "Depois de adicionar mensagens à fila, precisamos consumir essas mensagens para processá-las.\n",
        "\n",
        "O Redis oferece o comando `RPOP` para remover e retornar o último elemento da lista, seguindo a ordem **FIFO** (first-in-first-out)"
      ],
      "metadata": {
        "id": "pKWzpgXZCekM"
      }
    },
    {
      "cell_type": "code",
      "source": [
        "# Remover e consumir o próximo elemento da fila (dequeue)\n",
        "mensagem = r.rpop(\"minhafila\")\n",
        "print(f\"Mensagem consumida: {mensagem}\")\n",
        "\n",
        "# Verificar os elementos restantes na fila\n",
        "print(r.lrange(\"minhafila\", 0, -1))\n",
        "\n",
        "# execute algumas vezes, para vc entender como a fila está sendo consumida e exaurida ao mesmo tempo"
      ],
      "metadata": {
        "id": "r2p086NQDR4R"
      },
      "execution_count": null,
      "outputs": []
    },
    {
      "cell_type": "markdown",
      "source": [
        "### 🤓 Vamos adicionar um exemplo mais prático e interessante!\n",
        "\n",
        "Imagine que estamos processando pedidos de ingressos para um jogo de futebol. Cada mensagem na fila representa um pedido de ingresso que precisa ser processado."
      ],
      "metadata": {
        "id": "ULKUiybtRSaE"
      }
    },
    {
      "cell_type": "code",
      "source": [
        "import time\n",
        "# Populando nossa lista com alguns pedidos de tickets novos\n",
        "r.lpush(\"tickets:futeborrrr:fila\", \"Pedido 1\",  \"Pedido 2\",  \"Pedido 3\",  \"Pedido 4\",  \"Pedido 5\",  \"Pedido 6\")\n",
        "\n",
        "##### INICIO DO ROBOZINHO SIMPLES QUE PROCESSA OS PEDIDOS\n",
        "\n",
        "# Processar pedidos de ingressos\n",
        "def processar_pedido(pedido):\n",
        "    time.sleep(0.5)\n",
        "    print(f\"Processando pedido: {pedido}\")\n",
        "\n",
        "# Consumir e processar mensagens na fila\n",
        "while True:\n",
        "    pedido = r.rpop(\"tickets:futeborrrr:fila\")\n",
        "    if not pedido:\n",
        "        print(\"Nenhum pedido pendente.\")\n",
        "        break\n",
        "    processar_pedido(pedido)\n",
        "\n",
        "# Verificar os elementos restantes na fila\n",
        "print(r.lrange(\"tickets:futeborrrr:fila\", 0, -1))\n"
      ],
      "metadata": {
        "id": "ofyU_qMSR5ma"
      },
      "execution_count": null,
      "outputs": []
    },
    {
      "cell_type": "markdown",
      "source": [
        "Neste código, definimos uma função processar_pedido que simula o processamento de um pedido. Em seguida, usamos um loop para consumir e processar todas as mensagens na fila \"minhafila\" até que ela esteja vazia.\n",
        "\n",
        "Com isso, você aprendeu a consumir mensagens de uma fila no Redis, removendo e processando cada mensagem na ordem correta. Vamos continuar com os próximos passos, como visualizar (peek) e implementar filas confiáveis, em blocos subsequentes."
      ],
      "metadata": {
        "id": "X03fFhiqTwK9"
      }
    },
    {
      "cell_type": "markdown",
      "source": [
        "## Visualizando os elementos da fila (Peek)\n",
        "\n",
        "A operação de \"peek\" permite visualizar os elementos na fila sem removê-los. Isso pode ser útil para verificar o próximo item a ser processado ou para inspecionar o estado atual da fila.\n",
        "\n"
      ],
      "metadata": {
        "id": "8N4EpxMrUoTb"
      }
    },
    {
      "cell_type": "code",
      "source": [
        "fila = \"tickets:futeborrrr:filapeek\"\n",
        "\n",
        "# Popular uma fila pra testar o peek\n",
        "r.lpush(fila, \"Pedido 1\",  \"Pedido 2\",  \"Pedido 3\",  \"Pedido 4\",  \"Pedido 5\",  \"Pedido 6\")\n",
        "\n",
        "# Visualizar o próximo elemento da fila (peek)\n",
        "proximo_elemento = r.lrange(fila, -1, -1)\n",
        "print(f\"Próximo elemento a ser processado: {proximo_elemento}\")\n",
        "\n",
        "# Visualizar os três últimos elementos da fila\n",
        "tres_ultimos_elementos = r.lrange(fila, -3, -1)\n",
        "print(f\"Três últimos elementos na fila: {tres_ultimos_elementos}\")\n",
        "\n",
        "# Visualizar todos os elementos na fila\n",
        "todos_elementos = r.lrange(fila, 0, -1)\n",
        "print(f\"Todos os elementos na fila: {todos_elementos}\")"
      ],
      "metadata": {
        "id": "GQba-ppbUzVj"
      },
      "execution_count": null,
      "outputs": []
    },
    {
      "cell_type": "markdown",
      "source": [
        "## Implementando Filas Confiáveis\n",
        "\n",
        "Para garantir que mensagens não sejam perdidas se um consumidor falhar, podemos implementar filas confiáveis no Redis. Isso envolve mover as mensagens para uma fila temporária até que o processamento seja confirmado."
      ],
      "metadata": {
        "id": "VPUBkQ5rVZ11"
      }
    },
    {
      "cell_type": "markdown",
      "source": [
        "### Pegar uma mensagem/elemento da fila para processar, enquanto a move para uma fila temporária - como uma triagem"
      ],
      "metadata": {
        "id": "6IdFIDjmVmJ6"
      }
    },
    {
      "cell_type": "code",
      "source": [
        "# Use este bloco para iniciar ou resetar as filas deste exercicio\n",
        "r.delete(\"tickets:counterstrike2:fila_primaria\")\n",
        "r.delete(\"tickets:counterstrike2:fila_temporaria\")\n",
        "r.lpush(\"tickets:counterstrike2:fila_primaria\", \"Pessoa 1\", \"Pessoa 2\", \"Pessoa 3\", \"Pessoa 4\", \"Pessoa 5\")"
      ],
      "metadata": {
        "id": "cpEdN_9UVkWy"
      },
      "execution_count": null,
      "outputs": []
    },
    {
      "cell_type": "code",
      "source": [
        "# Aqui já pegamos uma mensagem para processar, enquanto a movemos da fila principal para uma fila temporária\n",
        "mensagem_a_ser_processada = r.rpoplpush(\"tickets:counterstrike2:fila_primaria\", \"tickets:counterstrike2:fila_temporaria\")\n",
        "\n",
        "print(\"Elemento da fila que será processado: {0}\".format(mensagem_a_ser_processada))"
      ],
      "metadata": {
        "id": "j4mswRkvWTCx"
      },
      "execution_count": null,
      "outputs": []
    },
    {
      "cell_type": "code",
      "source": [
        "# E o elemento fica na temporaria enquanto o servico esta fazendo o que precisa fazer\n",
        "r.lrange(\"tickets:counterstrike2:fila_temporaria\", 0, -1)"
      ],
      "metadata": {
        "id": "p9o_VNqGW1fR"
      },
      "execution_count": null,
      "outputs": []
    },
    {
      "cell_type": "markdown",
      "source": [
        "### Confirmar o Processamento de uma Mensagem\n",
        "Caso esteja tudo certo, você vai e apaga a mensagem da fila temporária, finalizando a triagem.\n",
        "\n"
      ],
      "metadata": {
        "id": "p3NaOQfiYCvv"
      }
    },
    {
      "cell_type": "code",
      "source": [
        "# Após processar a mensagem, removê-la da fila temporária\n",
        "r.lrem(\"tickets:counterstrike2:fila_temporaria\", 1, mensagem_a_ser_processada)"
      ],
      "metadata": {
        "id": "taIQD8dkYjy2"
      },
      "execution_count": null,
      "outputs": []
    },
    {
      "cell_type": "markdown",
      "source": [
        "# Parte Dois - Vamos ver o Pub/Sub no Redis\n",
        "\n",
        "## Introdução ao Pub/Sub no Redis\n",
        "\n",
        "O padrão Publish/Subscribe (Pub/Sub) no Redis é uma poderosa ferramenta de mensageria que permite a comunicação eficiente entre serviços. Diferente de filas tradicionais, onde mensagens são enviadas diretamente de um produtor para um consumidor, o Pub/Sub permite que mensagens sejam publicadas em canais específicos e consumidas por múltiplos assinantes. Isso é especialmente útil em cenários onde a mesma mensagem precisa ser entregue a vários consumidores simultaneamente, como em sistemas de notificações em tempo real.\n",
        "\n",
        "Neste tutorial, aprenderemos como configurar e usar o Pub/Sub no Redis. Começaremos com exemplos simples de publicação e consumo de mensagens, e avançaremos para um caso de uso mais complexo com múltiplos consumidores. Através de exercícios práticos, você entenderá como o Pub/Sub pode ser utilizado para criar sistemas de comunicação escaláveis e desacoplados."
      ],
      "metadata": {
        "id": "IBCw2Ys_gerY"
      }
    },
    {
      "cell_type": "markdown",
      "source": [
        "## Configurando Pub/Sub no Redis\n",
        "\n",
        "Vamos com um exemplo simples de Pub/Sub, onde um produtor publica mensagens em um canal e um consumidor se inscreve para receber essas mensagens.\n",
        "\n",
        "🔊 Bem na pegada fire-and-forget: não estava lá pra ouvir... perdeu!\\\n",
        "*E isso é o ideal, ok? Depois vamos ver Streams, não se preocupem!*\n",
        "\n",
        "### Consumidor Assinando um Canal no Redis"
      ],
      "metadata": {
        "id": "gom1pqgug8-o"
      }
    },
    {
      "cell_type": "code",
      "source": [
        "# Vamos usar threading apenas pq o consumer precisa ficar rodando sem bloquear o Colab, ok?\n",
        "\n",
        "# Conectar-se ao Redis, só pra ter certeza que a connection com o db está ok\n",
        "import redis\n",
        "r = redis.Redis(\n",
        "  host=REDIS_HOST,\n",
        "  port=REDIS_PORT,\n",
        "  password=REDIS_PASSWORD,\n",
        "  decode_responses=True)\n",
        "\n",
        "def consumidor():\n",
        "    pubsub = r.pubsub()\n",
        "    pubsub.subscribe('meucanal')\n",
        "    for mensagem in pubsub.listen():\n",
        "        if mensagem['type'] == 'message':\n",
        "            print(f\"Mensagem recebida: {mensagem['data']}\")\n",
        "\n",
        "# Iniciar o consumidor em uma thread separada para não bloquear o notebook\n",
        "import threading\n",
        "consumidor_thread = threading.Thread(target=consumidor)\n",
        "consumidor_thread.start()"
      ],
      "metadata": {
        "id": "JRTWqKbfheQ4"
      },
      "execution_count": null,
      "outputs": []
    },
    {
      "cell_type": "markdown",
      "source": [
        "### Produtor enviando mensagens no canal de pub/sub recém-criado"
      ],
      "metadata": {
        "id": "BSpFb3BUiJJn"
      }
    },
    {
      "cell_type": "code",
      "source": [
        "# Publicar uma mensagem no canal\n",
        "r.publish('meucanal', 'Tranquilidade, galera?')\n",
        "\n",
        "# Note que o Threading do Python aqui vai jogar pro processo principal;\n",
        "#   com isso, a mensagem vai sair aqui mesmo!\n",
        "# Em produção, imagine que são dois sitemas completamente apartados."
      ],
      "metadata": {
        "id": "RDngSSZZiP1q"
      },
      "execution_count": null,
      "outputs": []
    },
    {
      "cell_type": "markdown",
      "source": [
        "### Trocando de Ferramenta - Vamos ver Pub/Sub no Redis Insight!\n",
        "\n",
        "Como vocês notaram, o Threading do Python vai acabar jogando a mensagem na tela assim que ela for publicada pelo publisher.\n",
        "\n",
        "**Porém, vamos ver isso no Redis Insight agora. Vai clarear bastante!**\n",
        "\n",
        "1-) Abra o Redis Insight no seu PC e se conecte com o database que está usando aqui. Provavelmente um Redis Cloud Free mesmo.\n",
        "\n",
        "2-) Feito isso, abra o menu de Pub/Sub, no canto esquerdo da GUI:\n",
        "![](https://github.com/gacerioni/redis-workshop-mensageria-pubsub-streams/blob/master/static/pubsub_menu.png?raw=true)\n",
        "\n",
        "3-) Clique em **Subscribe**, o botão azul do lado superior direito da GUI\n",
        "\n",
        "4-) E agora publique algumas mensagens:\n",
        " - tanto por aqui no Colab (basta rodar o bloco acima algumas vezes, mudando a mensagem\n",
        " - quanto direto no Redis Insight, pra vocês testarem por lá também.\n",
        "\n",
        "\n",
        "![](https://github.com/gacerioni/redis-workshop-mensageria-pubsub-streams/blob/master/static/pubsub_demo.png?raw=true)\n"
      ],
      "metadata": {
        "id": "uGhYvNRYk1Yp"
      }
    },
    {
      "cell_type": "markdown",
      "source": [
        "# Parte Três - Finalmente Streams!!!"
      ],
      "metadata": {
        "id": "TlkSNTZZLdd-"
      }
    }
  ]
}