{
  "nbformat": 4,
  "nbformat_minor": 0,
  "metadata": {
    "colab": {
      "provenance": [],
      "authorship_tag": "ABX9TyMfR6G9kUNymxsbE52Bj0q2",
      "include_colab_link": true
    },
    "kernelspec": {
      "name": "python3",
      "display_name": "Python 3"
    },
    "language_info": {
      "name": "python"
    }
  },
  "cells": [
    {
      "cell_type": "markdown",
      "metadata": {
        "id": "view-in-github",
        "colab_type": "text"
      },
      "source": [
        "<a href=\"https://colab.research.google.com/github/gacerioni/redis-workshop-mensageria-pubsub-streams/blob/master/redis_workshop_mensageria_pubsub_streams.ipynb\" target=\"_parent\"><img src=\"https://colab.research.google.com/assets/colab-badge.svg\" alt=\"Open In Colab\"/></a>"
      ]
    },
    {
      "cell_type": "markdown",
      "source": [
        "# Workshop - Mensageria com Listas, Pub/Sub e Streams\n",
        "\n",
        "![Redis](https://redis.io/wp-content/uploads/2024/04/Logotype.svg?auto=webp&quality=85,75&width=120)\n",
        "\n",
        "\n",
        "Bem-vind[ao]s ao Workshop! Vamos explorar como utilizar o Redis para mensageria e comunicação eficiente entre serviços. Vamos começar com o conceito de filas, avançando para Pub/Sub e Streams.\n",
        "\n",
        "Para uma experiência premium, como a que eu quero que vocês tenham, recomendo MUITO utilizar o Redis Insight (App ou Web) pra apoiar na visualização dos dados.\n",
        "\n",
        "https://redis.com/redis-enterprise/redis-insight/"
      ],
      "metadata": {
        "id": "PaDrL0yr4JMD"
      }
    },
    {
      "cell_type": "markdown",
      "source": [
        "## Objetivos do Workshop\n",
        "\n",
        "Este notebook irá fazer uma introdução ao uso de listas no Redis para implementar filas de mensagens. Em seguida, exploraremos o Pub/Sub e Streams para comunicação em tempo real e processamento de dados.\n",
        "\n",
        "\n",
        "\n",
        "Espero que gostem! 🖖"
      ],
      "metadata": {
        "id": "VOaVxLxn4W99"
      }
    },
    {
      "cell_type": "markdown",
      "source": [
        "## Setup Rápido - e testes pra ver se tá tudo redondo antes de iniciar o lab"
      ],
      "metadata": {
        "id": "xaMxm7Hk4e_q"
      }
    },
    {
      "cell_type": "code",
      "execution_count": 2,
      "metadata": {
        "colab": {
          "base_uri": "https://localhost:8080/"
        },
        "id": "7eUyLPIt4B90",
        "outputId": "af51f0d0-1129-40f3-cf5d-ac278608ba83"
      },
      "outputs": [
        {
          "output_type": "stream",
          "name": "stdout",
          "text": [
            "\u001b[2K     \u001b[90m━━━━━━━━━━━━━━━━━━━━━━━━━━━━━━━━━━━━━━━━\u001b[0m \u001b[32m252.0/252.0 kB\u001b[0m \u001b[31m3.6 MB/s\u001b[0m eta \u001b[36m0:00:00\u001b[0m\n",
            "Get:1 https://cloud.r-project.org/bin/linux/ubuntu jammy-cran40/ InRelease [3,626 B]\n",
            "Hit:2 https://developer.download.nvidia.com/compute/cuda/repos/ubuntu2204/x86_64  InRelease\n",
            "Hit:3 https://ppa.launchpadcontent.net/c2d4u.team/c2d4u4.0+/ubuntu jammy InRelease\n",
            "Hit:4 https://ppa.launchpadcontent.net/deadsnakes/ppa/ubuntu jammy InRelease\n",
            "Hit:5 https://ppa.launchpadcontent.net/graphics-drivers/ppa/ubuntu jammy InRelease\n",
            "Hit:6 https://ppa.launchpadcontent.net/ubuntugis/ppa/ubuntu jammy InRelease\n",
            "Get:7 http://security.ubuntu.com/ubuntu jammy-security InRelease [129 kB]\n",
            "Get:8 http://security.ubuntu.com/ubuntu jammy-security/restricted amd64 Packages [2,453 kB]\n",
            "Get:9 http://security.ubuntu.com/ubuntu jammy-security/universe amd64 Packages [1,090 kB]\n",
            "Get:10 http://security.ubuntu.com/ubuntu jammy-security/main amd64 Packages [1,900 kB]\n",
            "Hit:11 http://archive.ubuntu.com/ubuntu jammy InRelease\n",
            "Get:12 http://archive.ubuntu.com/ubuntu jammy-updates InRelease [128 kB]\n",
            "Hit:13 http://archive.ubuntu.com/ubuntu jammy-backports InRelease\n",
            "Get:14 http://archive.ubuntu.com/ubuntu jammy-updates/main amd64 Packages [2,172 kB]\n",
            "Get:15 http://archive.ubuntu.com/ubuntu jammy-updates/universe amd64 Packages [1,390 kB]\n",
            "Get:16 http://archive.ubuntu.com/ubuntu jammy-updates/restricted amd64 Packages [2,525 kB]\n",
            "Fetched 11.8 MB in 40s (298 kB/s)\n",
            "Reading package lists... Done\n",
            "Reading package lists... Done\n",
            "Building dependency tree... Done\n",
            "Reading state information... Done\n",
            "The following additional packages will be installed:\n",
            "  libjemalloc2 liblua5.1-0 liblzf1 lua-bitop lua-cjson\n",
            "Suggested packages:\n",
            "  ruby-redis\n",
            "The following NEW packages will be installed:\n",
            "  libjemalloc2 liblua5.1-0 liblzf1 lua-bitop lua-cjson redis-tools\n",
            "0 upgraded, 6 newly installed, 0 to remove and 52 not upgraded.\n",
            "Need to get 1,227 kB of archives.\n",
            "After this operation, 5,530 kB of additional disk space will be used.\n",
            "Get:1 http://archive.ubuntu.com/ubuntu jammy/universe amd64 libjemalloc2 amd64 5.2.1-4ubuntu1 [240 kB]\n",
            "Get:2 http://archive.ubuntu.com/ubuntu jammy/universe amd64 liblua5.1-0 amd64 5.1.5-8.1build4 [99.9 kB]\n",
            "Get:3 http://archive.ubuntu.com/ubuntu jammy/universe amd64 liblzf1 amd64 3.6-3 [7,444 B]\n",
            "Get:4 http://archive.ubuntu.com/ubuntu jammy/universe amd64 lua-bitop amd64 1.0.2-5 [6,680 B]\n",
            "Get:5 http://archive.ubuntu.com/ubuntu jammy/universe amd64 lua-cjson amd64 2.1.0+dfsg-2.1 [17.4 kB]\n",
            "Get:6 http://archive.ubuntu.com/ubuntu jammy/universe amd64 redis-tools amd64 5:6.0.16-1ubuntu1 [856 kB]\n",
            "Fetched 1,227 kB in 20s (61.8 kB/s)\n",
            "Selecting previously unselected package libjemalloc2:amd64.\n",
            "(Reading database ... 121913 files and directories currently installed.)\n",
            "Preparing to unpack .../0-libjemalloc2_5.2.1-4ubuntu1_amd64.deb ...\n",
            "Unpacking libjemalloc2:amd64 (5.2.1-4ubuntu1) ...\n",
            "Selecting previously unselected package liblua5.1-0:amd64.\n",
            "Preparing to unpack .../1-liblua5.1-0_5.1.5-8.1build4_amd64.deb ...\n",
            "Unpacking liblua5.1-0:amd64 (5.1.5-8.1build4) ...\n",
            "Selecting previously unselected package liblzf1:amd64.\n",
            "Preparing to unpack .../2-liblzf1_3.6-3_amd64.deb ...\n",
            "Unpacking liblzf1:amd64 (3.6-3) ...\n",
            "Selecting previously unselected package lua-bitop:amd64.\n",
            "Preparing to unpack .../3-lua-bitop_1.0.2-5_amd64.deb ...\n",
            "Unpacking lua-bitop:amd64 (1.0.2-5) ...\n",
            "Selecting previously unselected package lua-cjson:amd64.\n",
            "Preparing to unpack .../4-lua-cjson_2.1.0+dfsg-2.1_amd64.deb ...\n",
            "Unpacking lua-cjson:amd64 (2.1.0+dfsg-2.1) ...\n",
            "Selecting previously unselected package redis-tools.\n",
            "Preparing to unpack .../5-redis-tools_5%3a6.0.16-1ubuntu1_amd64.deb ...\n",
            "Unpacking redis-tools (5:6.0.16-1ubuntu1) ...\n",
            "Setting up libjemalloc2:amd64 (5.2.1-4ubuntu1) ...\n",
            "Setting up lua-cjson:amd64 (2.1.0+dfsg-2.1) ...\n",
            "Setting up liblzf1:amd64 (3.6-3) ...\n",
            "Setting up lua-bitop:amd64 (1.0.2-5) ...\n",
            "Setting up liblua5.1-0:amd64 (5.1.5-8.1build4) ...\n",
            "Setting up redis-tools (5:6.0.16-1ubuntu1) ...\n",
            "Processing triggers for man-db (2.10.2-1) ...\n",
            "Processing triggers for libc-bin (2.35-0ubuntu3.4) ...\n",
            "/sbin/ldconfig.real: /usr/local/lib/libtbbbind_2_0.so.3 is not a symbolic link\n",
            "\n",
            "/sbin/ldconfig.real: /usr/local/lib/libtbb.so.12 is not a symbolic link\n",
            "\n",
            "/sbin/ldconfig.real: /usr/local/lib/libtbbbind.so.3 is not a symbolic link\n",
            "\n",
            "/sbin/ldconfig.real: /usr/local/lib/libtbbbind_2_5.so.3 is not a symbolic link\n",
            "\n",
            "/sbin/ldconfig.real: /usr/local/lib/libtbbmalloc_proxy.so.2 is not a symbolic link\n",
            "\n",
            "/sbin/ldconfig.real: /usr/local/lib/libtbbmalloc.so.2 is not a symbolic link\n",
            "\n"
          ]
        }
      ],
      "source": [
        "# Vamos instalar a lib do redis escolhida para o teste\n",
        "!pip install -q redis\n",
        "\n",
        "# E instalar a CLI, via redis-tools, que inclui a famosa redis-cli\n",
        "!apt-get update\n",
        "!apt-get install -y redis-tools"
      ]
    },
    {
      "cell_type": "markdown",
      "source": [
        "#### Configurando e testando a conexão com o seu Redis Cloud\n",
        "\n",
        "Coloque o endpoint host, port, e as credenciais pertinentes ao seu setup.\n",
        "\n",
        "Vou deixar o meu DB mesmo aqui, como referência."
      ],
      "metadata": {
        "id": "yuyjjRs7_o7g"
      }
    },
    {
      "cell_type": "code",
      "source": [
        "# Testando a redis-cli\n",
        "import os\n",
        "\n",
        "# Coloque aqui os dados do seu DB do Redis Cloud\n",
        "REDIS_HOST=\"redis-19581.c308.sa-east-1-1.ec2.redns.redis-cloud.com\"\n",
        "REDIS_PORT=19581\n",
        "REDIS_PASSWORD=\"nhtuquVSLbh2kUt2I86z5QwGu3KrcaYx\"\n",
        "\n",
        "# Caso o SSL esteja ativo pro endpoint, adicione --tls\n",
        "# Recomendo não misturar lé com cré aqui, visto que não vamos ter nenhuma informação sensível passando pelo fio.\n",
        "if REDIS_PASSWORD!=\"\":\n",
        "  os.environ[\"REDIS_CONN\"]=f\"-h {REDIS_HOST} -p {REDIS_PORT} -a {REDIS_PASSWORD} --no-auth-warning\"\n",
        "else:\n",
        "  os.environ[\"REDIS_CONN\"]=f\"-h {REDIS_HOST} -p {REDIS_PORT}\"\n",
        "\n",
        "# Caso o SSL esteja ativo pro endpoint, use rediss:// como o URL prefix\n",
        "REDIS_URL = f\"redis://:{REDIS_PASSWORD}@{REDIS_HOST}:{REDIS_PORT}\"\n",
        "INDEX_NAME = f\"qna:idx\"\n",
        "\n",
        "# Test a Redis connection\n",
        "!redis-cli $REDIS_CONN PING\n",
        "\n",
        "# DANGER ZONE - CASO QUEIRA DAR UM REFRESH GERAL\n",
        "# este comando abaixo ficará comentado, pois ele deleta todos os dados da sua base do Redis Cloud\n",
        "!redis-cli $REDIS_CONN FLUSHDB"
      ],
      "metadata": {
        "colab": {
          "base_uri": "https://localhost:8080/"
        },
        "id": "1SuKwfQl_q-y",
        "outputId": "d48afe28-38a2-4bf8-a406-d8ebeae102e9"
      },
      "execution_count": 3,
      "outputs": [
        {
          "output_type": "stream",
          "name": "stdout",
          "text": [
            "PONG\n",
            "OK\n"
          ]
        }
      ]
    },
    {
      "cell_type": "code",
      "source": [
        "# Testando via Python (redis-py)\n",
        "import redis\n",
        "r = redis.Redis(\n",
        "  host=REDIS_HOST,\n",
        "  port=REDIS_PORT,\n",
        "  password=REDIS_PASSWORD,\n",
        "  decode_responses=True)\n",
        "r.ping()"
      ],
      "metadata": {
        "colab": {
          "base_uri": "https://localhost:8080/"
        },
        "id": "8zEP3io8_sjl",
        "outputId": "b93d0bb5-e9b5-40db-c466-425232806e6b"
      },
      "execution_count": 4,
      "outputs": [
        {
          "output_type": "execute_result",
          "data": {
            "text/plain": [
              "True"
            ]
          },
          "metadata": {},
          "execution_count": 4
        }
      ]
    },
    {
      "cell_type": "markdown",
      "source": [
        "# Parte Um - Introdução às Filas no Redis\n",
        "\n",
        "**Filas são uma estrutura de dados fundamental para a comunicação assíncrona entre serviços.**\\\n",
        "\n",
        "Em ciência da computação, uma fila é uma coleção de entidades mantidas em uma sequência, onde elementos são adicionados em uma extremidade da sequência e removidos da outra. Esta característica é conhecida como FIFO (First In, First Out), o que significa que o primeiro elemento adicionado à fila é o primeiro a ser removido.\n",
        "\n",
        "Filas são amplamente utilizadas na programação para organizar tarefas de forma sequencial. Um exemplo moderno é um sistema de venda de ingressos de futebol, onde os pedidos são enfileirados e processados na ordem em que são recebidos, garantindo que cada cliente receba seu ingresso corretamente e na sequência certa.\n"
      ],
      "metadata": {
        "id": "x2MEEdetAzxA"
      }
    },
    {
      "cell_type": "markdown",
      "source": [
        "## Criando uma Fila no Redis\n",
        "\n",
        "No Redis, usamos listas para implementar filas. Vamos começar criando uma fila e adicionando algumas mensagens."
      ],
      "metadata": {
        "id": "TrdUsK0NCAkH"
      }
    },
    {
      "cell_type": "code",
      "source": [
        "# Deletar a fila caso já exista, só pra não confundir a gente\n",
        "r.delete(\"minhafila\")\n",
        "\n",
        "# Adicionar elementos à fila (enqueue)\n",
        "r.lpush(\"minhafila\", \"Tarefa 1\")\n",
        "r.lpush(\"minhafila\", \"Tarefa 2\")\n",
        "r.lpush(\"minhafila\", \"Tarefa 3\")\n",
        "r.lpush(\"minhafila\", \"Tarefa 4\")\n",
        "r.lpush(\"minhafila\", \"Tarefa 5\")\n",
        "\n",
        "# Verificar os elementos na fila\n",
        "print(r.lrange(\"minhafila\", 0, -1))"
      ],
      "metadata": {
        "colab": {
          "base_uri": "https://localhost:8080/"
        },
        "id": "soygXcrdCOqZ",
        "outputId": "85e1e6e3-9f3b-4370-d7df-2f24d8ccf6e2"
      },
      "execution_count": 5,
      "outputs": [
        {
          "output_type": "stream",
          "name": "stdout",
          "text": [
            "['Tarefa 5', 'Tarefa 4', 'Tarefa 3', 'Tarefa 2', 'Tarefa 1']\n"
          ]
        }
      ]
    },
    {
      "cell_type": "markdown",
      "source": [
        "Neste exemplo, usamos o comando LPUSH para adicionar elementos à fila chamada \"minhafila\". Verificamos os elementos na fila usando o comando LRANGE, que retorna todos os elementos da lista."
      ],
      "metadata": {
        "id": "IcbMbpcoCc8a"
      }
    },
    {
      "cell_type": "markdown",
      "source": [
        "## Consumo de Mensagens/Elementos da Fila  (Dequeue)\n",
        "\n",
        "Depois de adicionar mensagens à fila, precisamos consumir essas mensagens para processá-las.\n",
        "\n",
        "O Redis oferece o comando `RPOP` para remover e retornar o último elemento da lista, seguindo a ordem **FIFO** (first-in-first-out)"
      ],
      "metadata": {
        "id": "pKWzpgXZCekM"
      }
    },
    {
      "cell_type": "code",
      "source": [
        "# Remover e consumir o próximo elemento da fila (dequeue)\n",
        "mensagem = r.rpop(\"minhafila\")\n",
        "print(f\"Mensagem consumida: {mensagem}\")\n",
        "\n",
        "# Verificar os elementos restantes na fila\n",
        "print(r.lrange(\"minhafila\", 0, -1))\n",
        "\n",
        "# execute algumas vezes, para vc entender como a fila está sendo consumida e exaurida ao mesmo tempo"
      ],
      "metadata": {
        "id": "r2p086NQDR4R"
      },
      "execution_count": null,
      "outputs": []
    },
    {
      "cell_type": "markdown",
      "source": [
        "### 🤓 Vamos adicionar um exemplo mais prático e interessante!\n",
        "\n",
        "Imagine que estamos processando pedidos de ingressos para um jogo de futebol. Cada mensagem na fila representa um pedido de ingresso que precisa ser processado."
      ],
      "metadata": {
        "id": "ULKUiybtRSaE"
      }
    },
    {
      "cell_type": "code",
      "source": [
        "import time\n",
        "# Populando nossa lista com alguns pedidos de tickets novos\n",
        "r.lpush(\"tickets:futeborrrr:fila\", \"Pedido 1\",  \"Pedido 2\",  \"Pedido 3\",  \"Pedido 4\",  \"Pedido 5\",  \"Pedido 6\")\n",
        "\n",
        "##### INICIO DO ROBOZINHO SIMPLES QUE PROCESSA OS PEDIDOS\n",
        "\n",
        "# Processar pedidos de ingressos\n",
        "def processar_pedido(pedido):\n",
        "    time.sleep(0.5)\n",
        "    print(f\"Processando pedido: {pedido}\")\n",
        "\n",
        "# Consumir e processar mensagens na fila\n",
        "while True:\n",
        "    pedido = r.rpop(\"tickets:futeborrrr:fila\")\n",
        "    if not pedido:\n",
        "        print(\"Nenhum pedido pendente.\")\n",
        "        break\n",
        "    processar_pedido(pedido)\n",
        "\n",
        "# Verificar os elementos restantes na fila\n",
        "print(r.lrange(\"tickets:futeborrrr:fila\", 0, -1))\n"
      ],
      "metadata": {
        "id": "ofyU_qMSR5ma"
      },
      "execution_count": null,
      "outputs": []
    },
    {
      "cell_type": "markdown",
      "source": [
        "Neste código, definimos uma função processar_pedido que simula o processamento de um pedido. Em seguida, usamos um loop para consumir e processar todas as mensagens na fila \"minhafila\" até que ela esteja vazia.\n",
        "\n",
        "Com isso, você aprendeu a consumir mensagens de uma fila no Redis, removendo e processando cada mensagem na ordem correta. Vamos continuar com os próximos passos, como visualizar (peek) e implementar filas confiáveis, em blocos subsequentes."
      ],
      "metadata": {
        "id": "X03fFhiqTwK9"
      }
    },
    {
      "cell_type": "markdown",
      "source": [
        "## Visualizando os elementos da fila (Peek)\n",
        "\n",
        "A operação de \"peek\" permite visualizar os elementos na fila sem removê-los. Isso pode ser útil para verificar o próximo item a ser processado ou para inspecionar o estado atual da fila.\n",
        "\n"
      ],
      "metadata": {
        "id": "8N4EpxMrUoTb"
      }
    },
    {
      "cell_type": "code",
      "source": [
        "fila = \"tickets:futeborrrr:filapeek\"\n",
        "\n",
        "# Popular uma fila pra testar o peek\n",
        "r.lpush(fila, \"Pedido 1\",  \"Pedido 2\",  \"Pedido 3\",  \"Pedido 4\",  \"Pedido 5\",  \"Pedido 6\")\n",
        "\n",
        "# Visualizar o próximo elemento da fila (peek)\n",
        "proximo_elemento = r.lrange(fila, -1, -1)\n",
        "print(f\"Próximo elemento a ser processado: {proximo_elemento}\")\n",
        "\n",
        "# Visualizar os três últimos elementos da fila\n",
        "tres_ultimos_elementos = r.lrange(fila, -3, -1)\n",
        "print(f\"Três últimos elementos na fila: {tres_ultimos_elementos}\")\n",
        "\n",
        "# Visualizar todos os elementos na fila\n",
        "todos_elementos = r.lrange(fila, 0, -1)\n",
        "print(f\"Todos os elementos na fila: {todos_elementos}\")"
      ],
      "metadata": {
        "id": "GQba-ppbUzVj"
      },
      "execution_count": null,
      "outputs": []
    },
    {
      "cell_type": "markdown",
      "source": [
        "## Implementando Filas Confiáveis\n",
        "\n",
        "Para garantir que mensagens não sejam perdidas se um consumidor falhar, podemos implementar filas confiáveis no Redis. Isso envolve mover as mensagens para uma fila temporária até que o processamento seja confirmado."
      ],
      "metadata": {
        "id": "VPUBkQ5rVZ11"
      }
    },
    {
      "cell_type": "markdown",
      "source": [
        "### Pegar uma mensagem/elemento da fila para processar, enquanto a move para uma fila temporária - como uma triagem"
      ],
      "metadata": {
        "id": "6IdFIDjmVmJ6"
      }
    },
    {
      "cell_type": "code",
      "source": [
        "# Use este bloco para iniciar ou resetar as filas deste exercicio\n",
        "r.delete(\"tickets:counterstrike2:fila_primaria\")\n",
        "r.delete(\"tickets:counterstrike2:fila_temporaria\")\n",
        "r.lpush(\"tickets:counterstrike2:fila_primaria\", \"Pessoa 1\", \"Pessoa 2\", \"Pessoa 3\", \"Pessoa 4\", \"Pessoa 5\")"
      ],
      "metadata": {
        "id": "cpEdN_9UVkWy"
      },
      "execution_count": null,
      "outputs": []
    },
    {
      "cell_type": "code",
      "source": [
        "# Aqui já pegamos uma mensagem para processar, enquanto a movemos da fila principal para uma fila temporária\n",
        "mensagem_a_ser_processada = r.rpoplpush(\"tickets:counterstrike2:fila_primaria\", \"tickets:counterstrike2:fila_temporaria\")\n",
        "\n",
        "print(\"Elemento da fila que será processado: {0}\".format(mensagem_a_ser_processada))"
      ],
      "metadata": {
        "id": "j4mswRkvWTCx"
      },
      "execution_count": null,
      "outputs": []
    },
    {
      "cell_type": "code",
      "source": [
        "# E o elemento fica na temporaria enquanto o servico esta fazendo o que precisa fazer\n",
        "r.lrange(\"tickets:counterstrike2:fila_temporaria\", 0, -1)"
      ],
      "metadata": {
        "id": "p9o_VNqGW1fR"
      },
      "execution_count": null,
      "outputs": []
    },
    {
      "cell_type": "markdown",
      "source": [
        "### Confirmar o Processamento de uma Mensagem\n",
        "Caso esteja tudo certo, você vai e apaga a mensagem da fila temporária, finalizando a triagem.\n",
        "\n"
      ],
      "metadata": {
        "id": "p3NaOQfiYCvv"
      }
    },
    {
      "cell_type": "code",
      "source": [
        "# Após processar a mensagem, removê-la da fila temporária\n",
        "r.lrem(\"tickets:counterstrike2:fila_temporaria\", 1, mensagem_a_ser_processada)"
      ],
      "metadata": {
        "id": "taIQD8dkYjy2"
      },
      "execution_count": null,
      "outputs": []
    },
    {
      "cell_type": "markdown",
      "source": [
        "# Parte Dois - Vamos ver o Pub/Sub no Redis\n",
        "\n",
        "## Introdução ao Pub/Sub no Redis\n",
        "\n",
        "O padrão Publish/Subscribe (Pub/Sub) no Redis é uma poderosa ferramenta de mensageria que permite a comunicação eficiente entre serviços. Diferente de filas tradicionais, onde mensagens são enviadas diretamente de um produtor para um consumidor, o Pub/Sub permite que mensagens sejam publicadas em canais específicos e consumidas por múltiplos assinantes. Isso é especialmente útil em cenários onde a mesma mensagem precisa ser entregue a vários consumidores simultaneamente, como em sistemas de notificações em tempo real.\n",
        "\n",
        "Neste tutorial, aprenderemos como configurar e usar o Pub/Sub no Redis. Começaremos com exemplos simples de publicação e consumo de mensagens, e avançaremos para um caso de uso mais complexo com múltiplos consumidores. Através de exercícios práticos, você entenderá como o Pub/Sub pode ser utilizado para criar sistemas de comunicação escaláveis e desacoplados."
      ],
      "metadata": {
        "id": "IBCw2Ys_gerY"
      }
    },
    {
      "cell_type": "markdown",
      "source": [
        "## Configurando Pub/Sub no Redis\n",
        "\n",
        "Vamos com um exemplo simples de Pub/Sub, onde um produtor publica mensagens em um canal e um consumidor se inscreve para receber essas mensagens.\n",
        "\n",
        "🔊 Bem na pegada fire-and-forget: não estava lá pra ouvir... perdeu!\\\n",
        "*E isso é o ideal, ok? Depois vamos ver Streams, não se preocupem!*\n",
        "\n",
        "### Consumidor Assinando um Canal no Redis"
      ],
      "metadata": {
        "id": "gom1pqgug8-o"
      }
    },
    {
      "cell_type": "code",
      "source": [
        "# Vamos usar threading apenas pq o consumer precisa ficar rodando sem bloquear o Colab, ok?\n",
        "\n",
        "# Conectar-se ao Redis, só pra ter certeza que a connection com o db está ok\n",
        "import redis\n",
        "r = redis.Redis(\n",
        "  host=REDIS_HOST,\n",
        "  port=REDIS_PORT,\n",
        "  password=REDIS_PASSWORD,\n",
        "  decode_responses=True)\n",
        "\n",
        "def consumidor():\n",
        "    pubsub = r.pubsub()\n",
        "    pubsub.subscribe('meucanal')\n",
        "    for mensagem in pubsub.listen():\n",
        "        if mensagem['type'] == 'message':\n",
        "            print(f\"Mensagem recebida: {mensagem['data']}\")\n",
        "\n",
        "# Iniciar o consumidor em uma thread separada para não bloquear o notebook\n",
        "import threading\n",
        "consumidor_thread = threading.Thread(target=consumidor)\n",
        "consumidor_thread.start()"
      ],
      "metadata": {
        "id": "JRTWqKbfheQ4"
      },
      "execution_count": 6,
      "outputs": []
    },
    {
      "cell_type": "markdown",
      "source": [
        "### Produtor enviando mensagens no canal de pub/sub recém-criado"
      ],
      "metadata": {
        "id": "BSpFb3BUiJJn"
      }
    },
    {
      "cell_type": "code",
      "source": [
        "# Publicar uma mensagem no canal\n",
        "r.publish('meucanal', 'Tranquilidade, galeru?')\n",
        "\n",
        "# Note que o Threading do Python aqui vai jogar pro processo principal;\n",
        "#   com isso, a mensagem vai sair aqui mesmo!\n",
        "# Em produção, imagine que são dois sitemas completamente apartados."
      ],
      "metadata": {
        "colab": {
          "base_uri": "https://localhost:8080/"
        },
        "id": "RDngSSZZiP1q",
        "outputId": "ff4fdd4a-6615-4dfb-b543-878066c907e0"
      },
      "execution_count": 9,
      "outputs": [
        {
          "output_type": "stream",
          "name": "stdout",
          "text": [
            "Mensagem recebida: Tranquilidade, galeru?\n"
          ]
        },
        {
          "output_type": "execute_result",
          "data": {
            "text/plain": [
              "1"
            ]
          },
          "metadata": {},
          "execution_count": 9
        }
      ]
    },
    {
      "cell_type": "markdown",
      "source": [
        "### Trocando de Ferramenta - Vamos ver Pub/Sub no Redis Insight!\n",
        "\n",
        "Como vocês notaram, o Threading do Python vai acabar jogando a mensagem na tela assim que ela for publicada pelo publisher.\n",
        "\n",
        "**Porém, vamos ver isso no Redis Insight agora. Vai clarear bastante!**\n",
        "\n",
        "1-) Abra o Redis Insight no seu PC e se conecte com o database que está usando aqui. Provavelmente um Redis Cloud Free mesmo.\n",
        "\n",
        "2-) Feito isso, abra o menu de Pub/Sub, no canto esquerdo da GUI:\n",
        "![](https://github.com/gacerioni/redis-workshop-mensageria-pubsub-streams/blob/master/static/pubsub_menu.png?raw=true)\n",
        "\n",
        "3-) Clique em **Subscribe**, o botão azul do lado superior direito da GUI\n",
        "\n",
        "4-) E agora publique algumas mensagens:\n",
        " - tanto por aqui no Colab (basta rodar o bloco acima algumas vezes, mudando a mensagem\n",
        " - quanto direto no Redis Insight, pra vocês testarem por lá também.\n",
        "\n",
        "\n",
        "![](https://github.com/gacerioni/redis-workshop-mensageria-pubsub-streams/blob/master/static/pubsub_demo.png?raw=true)\n"
      ],
      "metadata": {
        "id": "uGhYvNRYk1Yp"
      }
    },
    {
      "cell_type": "markdown",
      "source": [
        "# Parte Três - Finalmente, Stream!\n",
        "\n",
        "## Introdução ao Redis Streams\n",
        "\n",
        "**Redis Streams** são estruturas de dados poderosas para registrar e distribuir eventos em tempo real. Consumer Groups permitem que múltiplos consumidores processem mensagens de um stream de forma escalável, garantindo que cada mensagem seja processada por apenas um consumidor no grupo. Isso é essencial para aplicações que necessitam distribuir a carga de trabalho de forma eficiente entre vários trabalhadores.\n",
        "\n",
        "Temos garantia de entrega, gestão de acks, persistência, controle de cardinalidade, e uma estrutura de dados que se assemelha a um Redis `HASH`.\\\n",
        "Ou seja, cada elemento pode ser uma entidade completamente diferente na Stream."
      ],
      "metadata": {
        "id": "TlkSNTZZLdd-"
      }
    },
    {
      "cell_type": "markdown",
      "source": [
        "## Criando uma Stream e adicionando algumas mensagens\n",
        "\n",
        "Neste passo, vamos criar um stream no Redis e adicionar algumas mensagens representando registros de SKU, cada um com campos diferentes para simular variações nos dados."
      ],
      "metadata": {
        "id": "ILiwpRMJxZlO"
      }
    },
    {
      "cell_type": "code",
      "source": [
        "# Reinicializar a stream - caso queira ter uma exp atomica\n",
        "# comente a linha abaixo para preservar dados existentes, e ir crescendo a stream\n",
        "r.delete(\"mystream\")\n",
        "\n",
        "# Adicionar registros de SKU ao stream\n",
        "r.xadd(\"mystream\", {\"sku\": \"SKU123\", \"name\": \"Produto A\", \"price\": \"10.99\"})\n",
        "r.xadd(\"mystream\", {\"sku\": \"SKU124\", \"name\": \"Produto B\", \"price\": \"15.49\", \"discount\": \"5%\"})\n",
        "r.xadd(\"mystream\", {\"sku\": \"SKU125\", \"name\": \"Produto C\", \"price\": \"7.99\"})\n",
        "r.xadd(\"mystream\", {\"sku\": \"SKU126\", \"name\": \"Produto D\", \"price\": \"20.00\", \"category\": \"Eletrônicos\"})\n",
        "r.xadd(\"mystream\", {\"sku\": \"SKU127\", \"name\": \"Produto E\", \"price\": \"13.75\", \"stock\": \"50\"})\n",
        "\n",
        "# Verificar as mensagens no stream\n",
        "entradas = r.xrange(\"mystream\", \"-\", \"+\")\n",
        "print(\"Entradas no stream: \")\n",
        "for entrada in entradas:\n",
        "    print(entrada)\n"
      ],
      "metadata": {
        "id": "w2bziXzZyBxq",
        "outputId": "478dc508-2ec5-440f-c9aa-c786e153e442",
        "colab": {
          "base_uri": "https://localhost:8080/"
        }
      },
      "execution_count": 13,
      "outputs": [
        {
          "output_type": "stream",
          "name": "stdout",
          "text": [
            "Entradas no stream: \n",
            "('1718202532575-0', {'sku': 'SKU123', 'name': 'Produto A', 'price': '10.99'})\n",
            "('1718202532705-0', {'sku': 'SKU124', 'name': 'Produto B', 'price': '15.49', 'discount': '5%'})\n",
            "('1718202532834-0', {'sku': 'SKU125', 'name': 'Produto C', 'price': '7.99'})\n",
            "('1718202532964-0', {'sku': 'SKU126', 'name': 'Produto D', 'price': '20.00', 'category': 'Eletrônicos'})\n",
            "('1718202533093-0', {'sku': 'SKU127', 'name': 'Produto E', 'price': '13.75', 'stock': '50'})\n"
          ]
        }
      ]
    },
    {
      "cell_type": "markdown",
      "source": [
        "## Escrita de Mensagens - Gerenciamento de Tamanho/Memória com XADD e XTRIM\n",
        "\n",
        "Neste passo, vamos explorar como gerenciar o tamanho da stream utilizando os comandos `XADD` com `MAXLEN`, e também `XTRIM` de forma isolada. Isso ajuda a manter o stream em um tamanho gerenciável, removendo entradas antigas automaticamente."
      ],
      "metadata": {
        "id": "QXx09rbj2IH_"
      }
    },
    {
      "cell_type": "code",
      "source": [
        "# Reinicializar a stream - caso queira ter uma experiência atômica\n",
        "# Comente a linha abaixo para preservar dados existentes e ir crescendo a stream\n",
        "r.delete(\"mystream\")\n",
        "\n",
        "# Adicionar registros de SKU ao stream com limite de tamanho\n",
        "# maxlen=3, approximate=False garante que o stream não ultrapasse 3 entradas de forma exata\n",
        "r.xadd(\"mystream\", {\"sku\": \"SKU123\", \"name\": \"Produto A\", \"price\": \"10.99\"}, maxlen=3, approximate=False)\n",
        "r.xadd(\"mystream\", {\"sku\": \"SKU124\", \"name\": \"Produto B\", \"price\": \"15.49\", \"discount\": \"5%\"}, maxlen=3, approximate=False)\n",
        "r.xadd(\"mystream\", {\"sku\": \"SKU125\", \"name\": \"Produto C\", \"price\": \"7.99\"}, maxlen=3, approximate=False)\n",
        "r.xadd(\"mystream\", {\"sku\": \"SKU126\", \"name\": \"Produto D\", \"price\": \"20.00\", \"category\": \"Eletrônicos\"}, maxlen=3, approximate=False)\n",
        "r.xadd(\"mystream\", {\"sku\": \"SKU127\", \"name\": \"Produto E\", \"price\": \"13.75\", \"stock\": \"50\"}, maxlen=3, approximate=False)\n",
        "\n",
        "# Limitar o tamanho do stream com XTRIM - opcional, pode ser usado em vez de XADD com maxlen\n",
        "# r.xtrim(\"mystream\", maxlen=3, approximate=False)\n",
        "\n",
        "# Verificar as mensagens no stream\n",
        "# XRANGE percorre todas as entradas do stream, do início ao fim\n",
        "entradas = r.xrange(\"mystream\", \"-\", \"+\")\n",
        "print(\"Entradas no stream (com maxlen=3): \")\n",
        "for entrada in entradas:\n",
        "    print(entrada)\n"
      ],
      "metadata": {
        "id": "wQ0L3Smu2eJX",
        "outputId": "6d0aa0c1-abde-467d-89da-703c72f7abe1",
        "colab": {
          "base_uri": "https://localhost:8080/"
        }
      },
      "execution_count": 26,
      "outputs": [
        {
          "output_type": "stream",
          "name": "stdout",
          "text": [
            "Entradas no stream (com maxlen=3): \n",
            "('1718203265660-0', {'sku': 'SKU125', 'name': 'Produto C', 'price': '7.99'})\n",
            "('1718203265789-0', {'sku': 'SKU126', 'name': 'Produto D', 'price': '20.00', 'category': 'Eletrônicos'})\n",
            "('1718203265919-0', {'sku': 'SKU127', 'name': 'Produto E', 'price': '13.75', 'stock': '50'})\n"
          ]
        }
      ]
    },
    {
      "cell_type": "markdown",
      "source": [
        "## Explorando Comandos Comuns de Redis Streams\n",
        "\n",
        "Neste passo, vamos explorar alguns comandos comuns para trabalhar com streams no Redis: `XREAD`, `XRANGE` e `XREVRANGE`.\n",
        "\n",
        "### XREAD: Ler Entradas de um Stream\n",
        "\n",
        "O comando `XREAD` pode ser usado para ler entradas a partir de uma posição específica no stream. A posição é determinada pelo ID da mensagem. Usando '0' como o ID inicial, você lê a partir do início do stream.\n",
        "\n",
        "⚠ *Note que o exercicio anterior deve ter matado o **Produto A** e **B**, por conta do `maxlen=3`. Então deve estar começando do `Produto C` aí!*"
      ],
      "metadata": {
        "id": "EGckbxXv5sUx"
      }
    },
    {
      "cell_type": "code",
      "source": [
        "# Ler duas entradas de um stream, começando do início da stream, aguardando por 300ms SE a Stream estiver vazia\n",
        "entradas = r.xread({'mystream': '0'}, count=2, block=300)\n",
        "print(\"Entradas lidas com XREAD: \")\n",
        "for entrada in entradas:\n",
        "    print(entrada)"
      ],
      "metadata": {
        "id": "uaF960kB55aQ",
        "outputId": "6044df7f-9d61-406c-a416-9e1167649489",
        "colab": {
          "base_uri": "https://localhost:8080/"
        }
      },
      "execution_count": 28,
      "outputs": [
        {
          "output_type": "stream",
          "name": "stdout",
          "text": [
            "Entradas lidas com XREAD: \n",
            "['mystream', [('1718203265660-0', {'sku': 'SKU125', 'name': 'Produto C', 'price': '7.99'}), ('1718203265789-0', {'sku': 'SKU126', 'name': 'Produto D', 'price': '20.00', 'category': 'Eletrônicos'})]]\n"
          ]
        }
      ]
    },
    {
      "cell_type": "markdown",
      "source": [
        "**Explicando o código acima:** O comando `XREAD` lê entradas de um stream, permitindo que consumidores recebam novas mensagens.\n",
        "\n",
        "- **'0':** Especifica que queremos começar a leitura do início do stream.\n",
        "- **count=2:** Lê até duas entradas.\n",
        "- **block=300:** Aguarda por até 300ms se o stream estiver vazio."
      ],
      "metadata": {
        "id": "qnWjqstK8Vf4"
      }
    },
    {
      "cell_type": "markdown",
      "source": [
        "### XRANGE: Consultar um Intervalo de Entradas\n",
        "\n",
        "O comando XRANGE retorna um intervalo específico de entradas em um stream.\n",
        "\n",
        "Utilizamos \"-\" e \"+\" para indicar o intervalo completo.\n",
        "```\n",
        "\"-\" e \"+\" indicam o intervalo completo, do início ao fim.\n",
        "```\n"
      ],
      "metadata": {
        "id": "E7DFFrzJ9GSF"
      }
    },
    {
      "cell_type": "code",
      "source": [
        "# Consultar todas as entradas do stream\n",
        "entradas = r.xrange(\"mystream\", \"-\", \"+\")\n",
        "print(\"Entradas no stream com XRANGE: \")\n",
        "for entrada in entradas:\n",
        "    print(entrada)\n"
      ],
      "metadata": {
        "id": "IWSCq80n9Qp7",
        "outputId": "a4b7831d-1a48-4edd-b55e-058679507a0e",
        "colab": {
          "base_uri": "https://localhost:8080/"
        }
      },
      "execution_count": 30,
      "outputs": [
        {
          "output_type": "stream",
          "name": "stdout",
          "text": [
            "Entradas no stream com XRANGE: \n",
            "('1718203265660-0', {'sku': 'SKU125', 'name': 'Produto C', 'price': '7.99'})\n",
            "('1718203265789-0', {'sku': 'SKU126', 'name': 'Produto D', 'price': '20.00', 'category': 'Eletrônicos'})\n",
            "('1718203265919-0', {'sku': 'SKU127', 'name': 'Produto E', 'price': '13.75', 'stock': '50'})\n"
          ]
        }
      ]
    },
    {
      "cell_type": "markdown",
      "source": [
        "### XREVRANGE: Consultar um Intervalo em Ordem Reversa\n",
        "\n",
        "O comando XREVRANGE retorna um intervalo específico de entradas em ordem reversa.\n",
        "\n",
        "Utilizamos \"+\" e \"-\" para indicar o intervalo completo em ordem inversa.\n",
        "\n",
        "```\n",
        "\"+\" e \"-\" indicam o intervalo completo, do fim ao início.\n",
        "```"
      ],
      "metadata": {
        "id": "dupHpjuq9VG9"
      }
    },
    {
      "cell_type": "code",
      "source": [
        "# Consultar todas as entradas do stream em ordem reversa\n",
        "entradas = r.xrevrange(\"mystream\", \"+\", \"-\")\n",
        "print(\"Entradas no stream com XREVRANGE: \")\n",
        "for entrada in entradas:\n",
        "    print(entrada)\n"
      ],
      "metadata": {
        "id": "9n3_yrQE9Zr5",
        "outputId": "d0ec54f7-3b05-4f0f-a7d3-de4c0f1089b4",
        "colab": {
          "base_uri": "https://localhost:8080/"
        }
      },
      "execution_count": 33,
      "outputs": [
        {
          "output_type": "stream",
          "name": "stdout",
          "text": [
            "Entradas no stream com XREVRANGE: \n",
            "('1718203265919-0', {'sku': 'SKU127', 'name': 'Produto E', 'price': '13.75', 'stock': '50'})\n",
            "('1718203265789-0', {'sku': 'SKU126', 'name': 'Produto D', 'price': '20.00', 'category': 'Eletrônicos'})\n",
            "('1718203265660-0', {'sku': 'SKU125', 'name': 'Produto C', 'price': '7.99'})\n"
          ]
        }
      ]
    }
  ]
}