{
  "nbformat": 4,
  "nbformat_minor": 0,
  "metadata": {
    "colab": {
      "provenance": [],
      "authorship_tag": "ABX9TyPYr5dIPi3McOCs8gOKAc4A",
      "include_colab_link": true
    },
    "kernelspec": {
      "name": "python3",
      "display_name": "Python 3"
    },
    "language_info": {
      "name": "python"
    }
  },
  "cells": [
    {
      "cell_type": "markdown",
      "metadata": {
        "id": "view-in-github",
        "colab_type": "text"
      },
      "source": [
        "<a href=\"https://colab.research.google.com/github/gacerioni/redis-workshop-mensageria-pubsub-streams/blob/master/redis_workshop_mensageria_pubsub_streams.ipynb\" target=\"_parent\"><img src=\"https://colab.research.google.com/assets/colab-badge.svg\" alt=\"Open In Colab\"/></a>"
      ]
    },
    {
      "cell_type": "markdown",
      "source": [
        "# Workshop - Mensageria com Listas, Pub/Sub e Streams\n",
        "\n",
        "![Redis](https://redis.io/wp-content/uploads/2024/04/Logotype.svg?auto=webp&quality=85,75&width=120)\n",
        "\n",
        "\n",
        "Bem-vind[ao]s ao Workshop! Vamos explorar como utilizar o Redis para mensageria e comunicação eficiente entre serviços. Vamos começar com o conceito de filas, avançando para Pub/Sub e Streams.\n",
        "\n",
        "Para uma experiência premium, como a que eu quero que vocês tenham, recomendo MUITO utilizar o Redis Insight (App ou Web) pra apoiar na visualização dos dados.\n",
        "\n",
        "https://redis.com/redis-enterprise/redis-insight/"
      ],
      "metadata": {
        "id": "PaDrL0yr4JMD"
      }
    },
    {
      "cell_type": "markdown",
      "source": [
        "## Objetivos do Workshop\n",
        "\n",
        "Este notebook irá fazer uma introdução ao uso de listas no Redis para implementar filas de mensagens. Em seguida, exploraremos o Pub/Sub e Streams para comunicação em tempo real e processamento de dados.\n",
        "\n",
        "\n",
        "\n",
        "Espero que gostem! 🖖"
      ],
      "metadata": {
        "id": "VOaVxLxn4W99"
      }
    },
    {
      "cell_type": "markdown",
      "source": [
        "## Setup Rápido - e testes pra ver se tá tudo redondo antes de iniciar o lab"
      ],
      "metadata": {
        "id": "xaMxm7Hk4e_q"
      }
    },
    {
      "cell_type": "code",
      "execution_count": null,
      "metadata": {
        "id": "7eUyLPIt4B90"
      },
      "outputs": [],
      "source": [
        "# Vamos instalar a lib do redis escolhida para o teste\n",
        "!pip install -q redis\n",
        "\n",
        "# E instalar a CLI, via redis-tools, que inclui a famosa redis-cli\n",
        "!apt-get update\n",
        "!apt-get install -y redis-tools"
      ]
    },
    {
      "cell_type": "markdown",
      "source": [
        "#### Configurando e testando a conexão com o seu Redis Cloud\n",
        "\n",
        "Coloque o endpoint host, port, e as credenciais pertinentes ao seu setup.\n",
        "\n",
        "Vou deixar o meu DB mesmo aqui, como referência."
      ],
      "metadata": {
        "id": "yuyjjRs7_o7g"
      }
    },
    {
      "cell_type": "code",
      "source": [
        "# Testando a redis-cli\n",
        "import os\n",
        "\n",
        "# Coloque aqui os dados do seu DB do Redis Cloud\n",
        "REDIS_HOST=\"redis-19581.c308.sa-east-1-1.ec2.redns.redis-cloud.com\"\n",
        "REDIS_PORT=19581\n",
        "REDIS_PASSWORD=\"nhtuquVSLbh2kUt2I86z5QwGu3KrcaYx\"\n",
        "\n",
        "# Caso o SSL esteja ativo pro endpoint, adicione --tls\n",
        "# Recomendo não misturar lé com cré aqui, visto que não vamos ter nenhuma informação sensível passando pelo fio.\n",
        "if REDIS_PASSWORD!=\"\":\n",
        "  os.environ[\"REDIS_CONN\"]=f\"-h {REDIS_HOST} -p {REDIS_PORT} -a {REDIS_PASSWORD} --no-auth-warning\"\n",
        "else:\n",
        "  os.environ[\"REDIS_CONN\"]=f\"-h {REDIS_HOST} -p {REDIS_PORT}\"\n",
        "\n",
        "# Caso o SSL esteja ativo pro endpoint, use rediss:// como o URL prefix\n",
        "REDIS_URL = f\"redis://:{REDIS_PASSWORD}@{REDIS_HOST}:{REDIS_PORT}\"\n",
        "INDEX_NAME = f\"qna:idx\"\n",
        "\n",
        "# Test a Redis connection\n",
        "!redis-cli $REDIS_CONN PING\n",
        "\n",
        "# DANGER ZONE - CASO QUEIRA DAR UM REFRESH GERAL\n",
        "# este comando abaixo ficará comentado, pois ele deleta todos os dados da sua base do Redis Cloud\n",
        "!redis-cli $REDIS_CONN FLUSHDB"
      ],
      "metadata": {
        "id": "1SuKwfQl_q-y"
      },
      "execution_count": null,
      "outputs": []
    },
    {
      "cell_type": "code",
      "source": [
        "# Testando via Python (redis-py)\n",
        "import redis\n",
        "r = redis.Redis(\n",
        "  host=REDIS_HOST,\n",
        "  port=REDIS_PORT,\n",
        "  password=REDIS_PASSWORD,\n",
        "  decode_responses=True)\n",
        "r.ping()"
      ],
      "metadata": {
        "id": "8zEP3io8_sjl"
      },
      "execution_count": null,
      "outputs": []
    },
    {
      "cell_type": "markdown",
      "source": [
        "# Parte Um - Introdução às Filas no Redis\n",
        "\n",
        "**Filas são uma estrutura de dados fundamental para a comunicação assíncrona entre serviços.**\n",
        "\n",
        "Em ciência da computação, uma fila é uma coleção de entidades mantidas em uma sequência, onde elementos são adicionados em uma extremidade da sequência e removidos da outra. Esta característica é conhecida como FIFO (First In, First Out), o que significa que o primeiro elemento adicionado à fila é o primeiro a ser removido.\n",
        "\n",
        "Filas são amplamente utilizadas na programação para organizar tarefas de forma sequencial. Um exemplo moderno é um sistema de venda de ingressos de futebol, onde os pedidos são enfileirados e processados na ordem em que são recebidos, garantindo que cada cliente receba seu ingresso corretamente e na sequência certa.\n"
      ],
      "metadata": {
        "id": "x2MEEdetAzxA"
      }
    },
    {
      "cell_type": "markdown",
      "source": [
        "## Criando uma Fila no Redis\n",
        "\n",
        "No Redis, usamos listas para implementar filas. Vamos começar criando uma fila e adicionando algumas mensagens."
      ],
      "metadata": {
        "id": "TrdUsK0NCAkH"
      }
    },
    {
      "cell_type": "code",
      "source": [
        "# Deletar a fila caso já exista, só pra não confundir a gente\n",
        "r.delete(\"minhafila\")\n",
        "\n",
        "# Adicionar elementos à fila (enqueue)\n",
        "r.lpush(\"minhafila\", \"Tarefa 1\")\n",
        "r.lpush(\"minhafila\", \"Tarefa 2\")\n",
        "r.lpush(\"minhafila\", \"Tarefa 3\")\n",
        "r.lpush(\"minhafila\", \"Tarefa 4\")\n",
        "r.lpush(\"minhafila\", \"Tarefa 5\")\n",
        "\n",
        "# Verificar os elementos na fila\n",
        "print(r.lrange(\"minhafila\", 0, -1))"
      ],
      "metadata": {
        "id": "soygXcrdCOqZ"
      },
      "execution_count": null,
      "outputs": []
    },
    {
      "cell_type": "markdown",
      "source": [
        "Neste exemplo, usamos o comando LPUSH para adicionar elementos à fila chamada \"minhafila\". Verificamos os elementos na fila usando o comando LRANGE, que retorna todos os elementos da lista."
      ],
      "metadata": {
        "id": "IcbMbpcoCc8a"
      }
    },
    {
      "cell_type": "markdown",
      "source": [
        "## Consumo de Mensagens/Elementos da Fila  (Dequeue)\n",
        "\n",
        "Depois de adicionar mensagens à fila, precisamos consumir essas mensagens para processá-las.\n",
        "\n",
        "O Redis oferece o comando `RPOP` para remover e retornar o último elemento da lista, seguindo a ordem **FIFO** (first-in-first-out)"
      ],
      "metadata": {
        "id": "pKWzpgXZCekM"
      }
    },
    {
      "cell_type": "code",
      "source": [
        "# Remover e consumir o próximo elemento da fila (dequeue)\n",
        "mensagem = r.rpop(\"minhafila\")\n",
        "print(f\"Mensagem consumida: {mensagem}\")\n",
        "\n",
        "# Verificar os elementos restantes na fila\n",
        "print(r.lrange(\"minhafila\", 0, -1))\n",
        "\n",
        "# execute algumas vezes, para vc entender como a fila está sendo consumida e exaurida ao mesmo tempo"
      ],
      "metadata": {
        "id": "r2p086NQDR4R"
      },
      "execution_count": null,
      "outputs": []
    },
    {
      "cell_type": "markdown",
      "source": [
        "### 🤓 Vamos adicionar um exemplo mais prático e interessante!\n",
        "\n",
        "Imagine que estamos processando pedidos de ingressos para um jogo de futebol. Cada mensagem na fila representa um pedido de ingresso que precisa ser processado."
      ],
      "metadata": {
        "id": "ULKUiybtRSaE"
      }
    },
    {
      "cell_type": "code",
      "source": [
        "import time\n",
        "# Populando nossa lista com alguns pedidos de tickets novos\n",
        "r.lpush(\"tickets:futeborrrr:fila\", \"Pedido 1\",  \"Pedido 2\",  \"Pedido 3\",  \"Pedido 4\",  \"Pedido 5\",  \"Pedido 6\")\n",
        "\n",
        "##### INICIO DO ROBOZINHO SIMPLES QUE PROCESSA OS PEDIDOS\n",
        "\n",
        "# Processar pedidos de ingressos\n",
        "def processar_pedido(pedido):\n",
        "    time.sleep(0.5)\n",
        "    print(f\"Processando pedido: {pedido}\")\n",
        "\n",
        "# Consumir e processar mensagens na fila\n",
        "while True:\n",
        "    pedido = r.rpop(\"tickets:futeborrrr:fila\")\n",
        "    if not pedido:\n",
        "        print(\"Nenhum pedido pendente.\")\n",
        "        break\n",
        "    processar_pedido(pedido)\n",
        "\n",
        "# Verificar os elementos restantes na fila\n",
        "print(r.lrange(\"tickets:futeborrrr:fila\", 0, -1))\n"
      ],
      "metadata": {
        "id": "ofyU_qMSR5ma"
      },
      "execution_count": null,
      "outputs": []
    },
    {
      "cell_type": "markdown",
      "source": [
        "Neste código, definimos uma função processar_pedido que simula o processamento de um pedido. Em seguida, usamos um loop para consumir e processar todas as mensagens na fila \"minhafila\" até que ela esteja vazia.\n",
        "\n",
        "Com isso, você aprendeu a consumir mensagens de uma fila no Redis, removendo e processando cada mensagem na ordem correta. Vamos continuar com os próximos passos, como visualizar (peek) e implementar filas confiáveis, em blocos subsequentes."
      ],
      "metadata": {
        "id": "X03fFhiqTwK9"
      }
    },
    {
      "cell_type": "markdown",
      "source": [
        "## Visualizando os elementos da fila (Peek)\n",
        "\n",
        "A operação de \"peek\" permite visualizar os elementos na fila sem removê-los. Isso pode ser útil para verificar o próximo item a ser processado ou para inspecionar o estado atual da fila.\n",
        "\n"
      ],
      "metadata": {
        "id": "8N4EpxMrUoTb"
      }
    },
    {
      "cell_type": "code",
      "source": [
        "fila = \"tickets:futeborrrr:filapeek\"\n",
        "\n",
        "# Popular uma fila pra testar o peek\n",
        "r.lpush(fila, \"Pedido 1\",  \"Pedido 2\",  \"Pedido 3\",  \"Pedido 4\",  \"Pedido 5\",  \"Pedido 6\")\n",
        "\n",
        "# Visualizar o próximo elemento da fila (peek)\n",
        "proximo_elemento = r.lrange(fila, -1, -1)\n",
        "print(f\"Próximo elemento a ser processado: {proximo_elemento}\")\n",
        "\n",
        "# Visualizar os três últimos elementos da fila\n",
        "tres_ultimos_elementos = r.lrange(fila, -3, -1)\n",
        "print(f\"Três últimos elementos na fila: {tres_ultimos_elementos}\")\n",
        "\n",
        "# Visualizar todos os elementos na fila\n",
        "todos_elementos = r.lrange(fila, 0, -1)\n",
        "print(f\"Todos os elementos na fila: {todos_elementos}\")"
      ],
      "metadata": {
        "id": "GQba-ppbUzVj"
      },
      "execution_count": null,
      "outputs": []
    },
    {
      "cell_type": "markdown",
      "source": [
        "## Implementando Filas Confiáveis\n",
        "\n",
        "Para garantir que mensagens não sejam perdidas se um consumidor falhar, podemos implementar filas confiáveis no Redis. Isso envolve mover as mensagens para uma fila temporária até que o processamento seja confirmado."
      ],
      "metadata": {
        "id": "VPUBkQ5rVZ11"
      }
    },
    {
      "cell_type": "markdown",
      "source": [
        "### Pegar uma mensagem/elemento da fila para processar, enquanto a move para uma fila temporária - como uma triagem"
      ],
      "metadata": {
        "id": "6IdFIDjmVmJ6"
      }
    },
    {
      "cell_type": "code",
      "source": [
        "# Use este bloco para iniciar ou resetar as filas deste exercicio\n",
        "r.delete(\"tickets:counterstrike2:fila_primaria\")\n",
        "r.delete(\"tickets:counterstrike2:fila_temporaria\")\n",
        "r.lpush(\"tickets:counterstrike2:fila_primaria\", \"Pessoa 1\", \"Pessoa 2\", \"Pessoa 3\", \"Pessoa 4\", \"Pessoa 5\")"
      ],
      "metadata": {
        "id": "cpEdN_9UVkWy"
      },
      "execution_count": null,
      "outputs": []
    },
    {
      "cell_type": "code",
      "source": [
        "# Aqui já pegamos uma mensagem para processar, enquanto a movemos da fila principal para uma fila temporária\n",
        "mensagem_a_ser_processada = r.rpoplpush(\"tickets:counterstrike2:fila_primaria\", \"tickets:counterstrike2:fila_temporaria\")\n",
        "\n",
        "print(\"Elemento da fila que será processado: {0}\".format(mensagem_a_ser_processada))"
      ],
      "metadata": {
        "id": "j4mswRkvWTCx"
      },
      "execution_count": null,
      "outputs": []
    },
    {
      "cell_type": "code",
      "source": [
        "# E o elemento fica na temporaria enquanto o servico esta fazendo o que precisa fazer\n",
        "r.lrange(\"tickets:counterstrike2:fila_temporaria\", 0, -1)"
      ],
      "metadata": {
        "id": "p9o_VNqGW1fR"
      },
      "execution_count": null,
      "outputs": []
    },
    {
      "cell_type": "markdown",
      "source": [
        "### Confirmar o Processamento de uma Mensagem\n",
        "Caso esteja tudo certo, você vai e apaga a mensagem da fila temporária, finalizando a triagem.\n",
        "\n"
      ],
      "metadata": {
        "id": "p3NaOQfiYCvv"
      }
    },
    {
      "cell_type": "code",
      "source": [
        "# Após processar a mensagem, removê-la da fila temporária\n",
        "r.lrem(\"tickets:counterstrike2:fila_temporaria\", 1, mensagem_a_ser_processada)"
      ],
      "metadata": {
        "id": "taIQD8dkYjy2"
      },
      "execution_count": null,
      "outputs": []
    },
    {
      "cell_type": "markdown",
      "source": [
        "# Parte Dois - Pub/Sub no Redis\n",
        "\n",
        "## Introdução ao Pub/Sub no Redis\n",
        "\n",
        "O padrão **Publish/Subscribe** (Pub/Sub) no Redis é uma poderosa ferramenta de mensageria que permite a comunicação eficiente entre serviços. Diferente de filas tradicionais, onde mensagens são enviadas diretamente de um produtor para um consumidor, o Pub/Sub permite que mensagens sejam publicadas em canais específicos e consumidas por múltiplos assinantes. Isso é especialmente útil em cenários onde a mesma mensagem precisa ser entregue a vários consumidores simultaneamente, como em sistemas de notificações em tempo real.\n",
        "\n",
        "Neste tutorial, aprenderemos como configurar e usar o Pub/Sub no Redis. Começaremos com exemplos simples de publicação e consumo de mensagens, e avançaremos para um caso de uso mais complexo com múltiplos consumidores. Através de exercícios práticos, você entenderá como o Pub/Sub pode ser utilizado para criar sistemas de comunicação escaláveis e desacoplados."
      ],
      "metadata": {
        "id": "IBCw2Ys_gerY"
      }
    },
    {
      "cell_type": "markdown",
      "source": [
        "## Configurando Pub/Sub no Redis\n",
        "\n",
        "Vamos com um exemplo simples de Pub/Sub, onde um produtor publica mensagens em um canal e um consumidor se inscreve para receber essas mensagens.\n",
        "\n",
        "🔊 Bem na pegada fire-and-forget: não estava lá pra ouvir... perdeu!\\\n",
        "*E isso é o ideal, ok? Depois vamos ver Streams, não se preocupem!*\n",
        "\n",
        "### Consumidor Assinando um Canal no Redis"
      ],
      "metadata": {
        "id": "gom1pqgug8-o"
      }
    },
    {
      "cell_type": "code",
      "source": [
        "# Vamos usar threading apenas pq o consumer precisa ficar rodando sem bloquear o Colab, ok?\n",
        "\n",
        "# Conectar-se ao Redis, só pra ter certeza que a connection com o db está ok\n",
        "import redis\n",
        "r = redis.Redis(\n",
        "  host=REDIS_HOST,\n",
        "  port=REDIS_PORT,\n",
        "  password=REDIS_PASSWORD,\n",
        "  decode_responses=True)\n",
        "\n",
        "def consumidor():\n",
        "    pubsub = r.pubsub()\n",
        "    pubsub.subscribe('meucanal')\n",
        "    for mensagem in pubsub.listen():\n",
        "        if mensagem['type'] == 'message':\n",
        "            print(f\"Mensagem recebida: {mensagem['data']}\")\n",
        "\n",
        "# Iniciar o consumidor em uma thread separada para não bloquear o notebook\n",
        "import threading\n",
        "consumidor_thread = threading.Thread(target=consumidor)\n",
        "consumidor_thread.start()"
      ],
      "metadata": {
        "id": "JRTWqKbfheQ4"
      },
      "execution_count": null,
      "outputs": []
    },
    {
      "cell_type": "markdown",
      "source": [
        "### Produtor enviando mensagens no canal de pub/sub recém-criado"
      ],
      "metadata": {
        "id": "BSpFb3BUiJJn"
      }
    },
    {
      "cell_type": "code",
      "source": [
        "# Publicar uma mensagem no canal\n",
        "r.publish('meucanal', 'Tranquilidade, galera?')\n",
        "\n",
        "# Note que o Threading do Python aqui vai jogar pro processo principal;\n",
        "#   com isso, a mensagem vai sair aqui mesmo!\n",
        "# Em produção, imagine que são dois sitemas completamente apartados."
      ],
      "metadata": {
        "id": "RDngSSZZiP1q"
      },
      "execution_count": null,
      "outputs": []
    },
    {
      "cell_type": "markdown",
      "source": [
        "### Trocando de Ferramenta - Vamos ver Pub/Sub no Redis Insight!\n",
        "\n",
        "Como vocês notaram, o Threading do Python vai acabar jogando a mensagem na tela assim que ela for publicada pelo publisher.\n",
        "\n",
        "**Porém, vamos ver isso no Redis Insight agora. Vai clarear bastante!**\n",
        "\n",
        "1-) Abra o Redis Insight no seu PC e se conecte com o database que está usando aqui. Provavelmente um Redis Cloud Free mesmo.\n",
        "\n",
        "2-) Feito isso, abra o menu de Pub/Sub, no canto esquerdo da GUI:\n",
        "![](https://github.com/gacerioni/redis-workshop-mensageria-pubsub-streams/blob/master/static/pubsub_menu.png?raw=true)\n",
        "\n",
        "3-) Clique em **Subscribe**, o botão azul do lado superior direito da GUI\n",
        "\n",
        "4-) E agora publique algumas mensagens:\n",
        " - tanto por aqui no Colab (basta rodar o bloco acima algumas vezes, mudando a mensagem\n",
        " - quanto direto no Redis Insight, pra vocês testarem por lá também.\n",
        "\n",
        "\n",
        "![](https://github.com/gacerioni/redis-workshop-mensageria-pubsub-streams/blob/master/static/pubsub_demo.png?raw=true)\n"
      ],
      "metadata": {
        "id": "uGhYvNRYk1Yp"
      }
    },
    {
      "cell_type": "markdown",
      "source": [
        "# Parte Três - Finalmente, Stream!\n",
        "\n",
        "## Introdução ao Redis Streams\n",
        "\n",
        "**Redis Streams** são estruturas de dados poderosas para registrar e distribuir eventos em tempo real. Consumer Groups permitem que múltiplos consumidores processem mensagens de um stream de forma escalável, garantindo que cada mensagem seja processada por apenas um consumidor no grupo. Isso é essencial para aplicações que necessitam distribuir a carga de trabalho de forma eficiente entre vários trabalhadores.\n",
        "\n",
        "Temos garantia de entrega, gestão de acks, persistência, controle de cardinalidade, e uma estrutura de dados que se assemelha a um Redis `HASH`.\\\n",
        "Ou seja, cada elemento pode ser uma entidade completamente diferente na Stream."
      ],
      "metadata": {
        "id": "TlkSNTZZLdd-"
      }
    },
    {
      "cell_type": "markdown",
      "source": [
        "## Criando uma Stream e adicionando algumas mensagens\n",
        "\n",
        "Neste passo, vamos criar um stream no Redis e adicionar algumas mensagens representando registros de SKU, cada um com campos diferentes para simular variações nos dados."
      ],
      "metadata": {
        "id": "ILiwpRMJxZlO"
      }
    },
    {
      "cell_type": "code",
      "source": [
        "# Reinicializar a stream - caso queira ter uma exp atomica\n",
        "# comente a linha abaixo para preservar dados existentes, e ir crescendo a stream\n",
        "r.delete(\"mystream\")\n",
        "\n",
        "# Adicionar registros de SKU ao stream\n",
        "r.xadd(\"mystream\", {\"sku\": \"SKU123\", \"name\": \"Produto A\", \"price\": \"10.99\"})\n",
        "r.xadd(\"mystream\", {\"sku\": \"SKU124\", \"name\": \"Produto B\", \"price\": \"15.49\", \"discount\": \"5%\"})\n",
        "r.xadd(\"mystream\", {\"sku\": \"SKU125\", \"name\": \"Produto C\", \"price\": \"7.99\"})\n",
        "r.xadd(\"mystream\", {\"sku\": \"SKU126\", \"name\": \"Produto D\", \"price\": \"20.00\", \"category\": \"Eletrônicos\"})\n",
        "r.xadd(\"mystream\", {\"sku\": \"SKU127\", \"name\": \"Produto E\", \"price\": \"13.75\", \"stock\": \"50\"})\n",
        "\n",
        "# Verificar as mensagens no stream\n",
        "entradas = r.xrange(\"mystream\", \"-\", \"+\")\n",
        "print(\"Entradas no stream: \")\n",
        "for entrada in entradas:\n",
        "    print(entrada)\n"
      ],
      "metadata": {
        "id": "w2bziXzZyBxq"
      },
      "execution_count": null,
      "outputs": []
    },
    {
      "cell_type": "markdown",
      "source": [
        "## Escrita de Mensagens - Gerenciamento de Tamanho/Memória com XADD e XTRIM\n",
        "\n",
        "Neste passo, vamos explorar como gerenciar o tamanho da stream utilizando os comandos `XADD` com `MAXLEN`, e também `XTRIM` de forma isolada. Isso ajuda a manter o stream em um tamanho gerenciável, removendo entradas antigas automaticamente."
      ],
      "metadata": {
        "id": "QXx09rbj2IH_"
      }
    },
    {
      "cell_type": "code",
      "source": [
        "# Reinicializar a stream - caso queira ter uma experiência atômica\n",
        "# Comente a linha abaixo para preservar dados existentes e ir crescendo a stream\n",
        "r.delete(\"mystream\")\n",
        "\n",
        "# Adicionar registros de SKU ao stream com limite de tamanho\n",
        "# maxlen=3, approximate=False garante que o stream não ultrapasse 3 entradas de forma exata\n",
        "r.xadd(\"mystream\", {\"sku\": \"SKU123\", \"name\": \"Produto A\", \"price\": \"10.99\"}, maxlen=3, approximate=False)\n",
        "r.xadd(\"mystream\", {\"sku\": \"SKU124\", \"name\": \"Produto B\", \"price\": \"15.49\", \"discount\": \"5%\"}, maxlen=3, approximate=False)\n",
        "r.xadd(\"mystream\", {\"sku\": \"SKU125\", \"name\": \"Produto C\", \"price\": \"7.99\"}, maxlen=3, approximate=False)\n",
        "r.xadd(\"mystream\", {\"sku\": \"SKU126\", \"name\": \"Produto D\", \"price\": \"20.00\", \"category\": \"Eletrônicos\"}, maxlen=3, approximate=False)\n",
        "r.xadd(\"mystream\", {\"sku\": \"SKU127\", \"name\": \"Produto E\", \"price\": \"13.75\", \"stock\": \"50\"}, maxlen=3, approximate=False)\n",
        "\n",
        "# Limitar o tamanho do stream com XTRIM - opcional, pode ser usado em vez de XADD com maxlen\n",
        "# r.xtrim(\"mystream\", maxlen=3, approximate=False)\n",
        "\n",
        "# Verificar as mensagens no stream\n",
        "# XRANGE percorre todas as entradas do stream, do início ao fim\n",
        "entradas = r.xrange(\"mystream\", \"-\", \"+\")\n",
        "print(\"Entradas no stream (com maxlen=3): \")\n",
        "for entrada in entradas:\n",
        "    print(entrada)\n"
      ],
      "metadata": {
        "id": "wQ0L3Smu2eJX"
      },
      "execution_count": null,
      "outputs": []
    },
    {
      "cell_type": "markdown",
      "source": [
        "## Explorando Comandos Comuns de Redis Streams\n",
        "\n",
        "Neste passo, vamos explorar alguns comandos comuns para trabalhar com streams no Redis: `XREAD`, `XRANGE` e `XREVRANGE`.\n",
        "\n",
        "### XREAD: Ler Entradas de um Stream\n",
        "\n",
        "O comando `XREAD` pode ser usado para ler entradas a partir de uma posição específica no stream. A posição é determinada pelo ID da mensagem. Usando '0' como o ID inicial, você lê a partir do início do stream.\n",
        "\n",
        "⚠ *Note que o exercicio anterior deve ter matado o **Produto A** e **B**, por conta do `maxlen=3`. Então deve estar começando do `Produto C` aí!*"
      ],
      "metadata": {
        "id": "EGckbxXv5sUx"
      }
    },
    {
      "cell_type": "code",
      "source": [
        "# Ler duas entradas de um stream, começando do início da stream, aguardando por 300ms SE a Stream estiver vazia\n",
        "entradas = r.xread({'mystream': '0'}, count=2, block=300)\n",
        "print(\"Entradas lidas com XREAD: \")\n",
        "for entrada in entradas:\n",
        "    print(entrada)"
      ],
      "metadata": {
        "id": "uaF960kB55aQ"
      },
      "execution_count": null,
      "outputs": []
    },
    {
      "cell_type": "markdown",
      "source": [
        "**Explicando o código acima:** O comando `XREAD` lê entradas de um stream, permitindo que consumidores recebam novas mensagens.\n",
        "\n",
        "- **'0':** Especifica que queremos começar a leitura do início do stream.\n",
        "- **count=2:** Lê até duas entradas.\n",
        "- **block=300:** Aguarda por até 300ms se o stream estiver vazio."
      ],
      "metadata": {
        "id": "qnWjqstK8Vf4"
      }
    },
    {
      "cell_type": "markdown",
      "source": [
        "### XRANGE: Consultar um Intervalo de Entradas\n",
        "\n",
        "O comando XRANGE retorna um intervalo específico de entradas em um stream.\n",
        "\n",
        "Utilizamos \"-\" e \"+\" para indicar o intervalo completo.\n",
        "```\n",
        "\"-\" e \"+\" indicam o intervalo completo, do início ao fim.\n",
        "```\n"
      ],
      "metadata": {
        "id": "E7DFFrzJ9GSF"
      }
    },
    {
      "cell_type": "code",
      "source": [
        "# Consultar todas as entradas do stream\n",
        "entradas = r.xrange(\"mystream\", \"-\", \"+\")\n",
        "print(\"Entradas no stream com XRANGE: \")\n",
        "for entrada in entradas:\n",
        "    print(entrada)\n"
      ],
      "metadata": {
        "id": "IWSCq80n9Qp7"
      },
      "execution_count": null,
      "outputs": []
    },
    {
      "cell_type": "markdown",
      "source": [
        "### XREVRANGE: Consultar um Intervalo em Ordem Reversa\n",
        "\n",
        "O comando XREVRANGE retorna um intervalo específico de entradas em ordem reversa.\n",
        "\n",
        "Utilizamos \"+\" e \"-\" para indicar o intervalo completo em ordem inversa.\n",
        "\n",
        "```\n",
        "\"+\" e \"-\" indicam o intervalo completo, do fim ao início.\n",
        "```"
      ],
      "metadata": {
        "id": "dupHpjuq9VG9"
      }
    },
    {
      "cell_type": "code",
      "source": [
        "# Consultar todas as entradas do stream em ordem reversa\n",
        "entradas = r.xrevrange(\"mystream\", \"+\", \"-\")\n",
        "print(\"Entradas no stream com XREVRANGE: \")\n",
        "for entrada in entradas:\n",
        "    print(entrada)\n"
      ],
      "metadata": {
        "id": "9n3_yrQE9Zr5"
      },
      "execution_count": null,
      "outputs": []
    },
    {
      "cell_type": "markdown",
      "source": [
        "## Consumer Groups no Redis Streams - uma breve introdução\n",
        "\n",
        "**Consumer Groups** permitem que múltiplos consumidores processem mensagens de um stream de forma escalável. Cada mensagem é processada por apenas um consumidor dentro do grupo, garantindo eficiência e evitando duplicação de processamento. Ajuda muito em estratégias como fan-out."
      ],
      "metadata": {
        "id": "SKTV0_q8D8Xb"
      }
    },
    {
      "cell_type": "markdown",
      "source": [
        "### Criar e Gerenciar Consumer Groups\n",
        "\n",
        "Criar um Grupo de Consumidores:\n",
        "\n",
        "O comando `XGROUP CREATE` abaixo cria um grupo de consumidores chamado `mygroup` no stream mystream.\n",
        "\n",
        "- id=\"0\" indica que o grupo começará a ler a partir da primeira mensagem no stream.\n",
        "- mkstream=True cria o stream se ele não existir."
      ],
      "metadata": {
        "id": "QSxs1AH2Ee1x"
      }
    },
    {
      "cell_type": "code",
      "source": [
        "# Criar um grupo de consumidores no stream 'mystream'\n",
        "r.xgroup_create(\"mystream\", \"mygroup\", id=\"0\", mkstream=True)\n",
        "print(\"Grupo de consumidores 'mygroup' criado no stream 'mystream'.\")\n"
      ],
      "metadata": {
        "id": "UzrLBqTYFj9O"
      },
      "execution_count": null,
      "outputs": []
    },
    {
      "cell_type": "markdown",
      "source": [
        "**Vou deixar vocês mesmo encontrarem o Consumer Group criado no Redis Insight!**\\\n",
        "Observe que criamos o consumer group indicando a stream em si.\n",
        "\n",
        "![](https://github.com/gacerioni/redis-workshop-mensageria-pubsub-streams/blob/master/static/stream_consumer_group_vanilla.png?raw=true)\n",
        "\n",
        "\n",
        "\n",
        "------\n",
        "\n",
        "Porém, um mesmo grupo de consumidores pode pegar mensagens de várias streams ao mesmo tempo.\n",
        "\n",
        "Olha só como funciona o método `XREADGROUP` da nossa lib do Python.\\\n",
        "Note como ela aceita um dict contendo as streams e o modo de acesso delas:\n",
        "\n",
        "![](https://github.com/gacerioni/redis-workshop-mensageria-pubsub-streams/blob/master/static/stream_consumer_xreadgroup.png?raw=true)\n",
        "\n",
        "\n",
        "Desta forma, poderíamos fazer algo como isso:\n",
        "```python\n",
        "    def run(self):\n",
        "        while True:\n",
        "            try:\n",
        "                streams = {stream: '>' for stream in STREAM_NAMES.values()}\n",
        "                results = self.client.xreadgroup(GROUP_NAME, self.consumer_name, streams, count=1, block=1000)\n",
        "                if results:\n",
        "                    for stream, messages in results:\n",
        "                        for message_id, message in messages:\n",
        "                            # Simulate blablabla\n",
        "                            <...>\n",
        "```\n"
      ],
      "metadata": {
        "id": "n0u4ojlSGLCU"
      }
    },
    {
      "cell_type": "markdown",
      "source": [
        "### Continuando com Consumer Groups - Um Consumidor Entra no Grupo!\n",
        "\n",
        "O comando `XREADGROUP` permite que um consumidor leia mensagens de um grupo de consumidores. Já é o join do grupo em si, atômico.\n",
        "\n",
        "- **\"`mygroup`\":** Nome do grupo de consumidores.\n",
        "- **\"`consumer1`\":** Nome do consumidor.\n",
        "- **\"`mystream\": \">\"`:** Lê novas mensagens do stream a partir do final."
      ],
      "metadata": {
        "id": "JcpQIWmOHs1b"
      }
    },
    {
      "cell_type": "code",
      "source": [
        "# Consumidor 'consumer1' lê mensagens do grupo 'mygroup' no stream 'mystream'\n",
        "entradas = r.xreadgroup(\"mygroup\", \"consumer1\", {\"mystream\": \">\"}, count=2, block=3000)\n",
        "print(\"Entradas lidas por consumer1: \")\n",
        "for entrada in entradas:\n",
        "    print(entrada)"
      ],
      "metadata": {
        "id": "S2FUeJYnIRNG"
      },
      "execution_count": null,
      "outputs": []
    },
    {
      "cell_type": "code",
      "source": [
        "# NOVO CONSUMIDOR CHEGANDO PRA AJUDAR!\n",
        "# Consumidor 'consumer2' lê mensagens do grupo 'mygroup' no stream 'mystream'\n",
        "entradas = r.xreadgroup(\"mygroup\", \"consumer2\", {\"mystream\": \">\"}, count=2, block=3000)\n",
        "print(\"Entradas lidas por consumer2: \")\n",
        "for entrada in entradas:\n",
        "    print(entrada)\n"
      ],
      "metadata": {
        "id": "ll9_sDsIIVte"
      },
      "execution_count": null,
      "outputs": []
    },
    {
      "cell_type": "markdown",
      "source": [
        "#### Explicação\n",
        "\n",
        "- `XGROUP CREATE`: Cria um grupo de consumidores, permitindo que múltiplos consumidores leiam mensagens de um stream de forma coordenada.\n",
        "- `XREADGROUP`: Utilizado por consumidores para ler mensagens de um grupo, garantindo que cada mensagem seja processada por apenas um consumidor dentro do grupo"
      ],
      "metadata": {
        "id": "u_JQr5-aId_i"
      }
    },
    {
      "cell_type": "markdown",
      "source": [
        "### Ainda relacionado com Consumer Groups - Gerenciar Mensagens Pendentes com PEL (Pending Entry List)\n",
        "\n",
        "O comando `XPENDING` exibe informações sobre mensagens pendentes em um grupo de consumidores, incluindo quem está processando cada mensagem e há quanto tempo."
      ],
      "metadata": {
        "id": "d5lmEbEuI5H3"
      }
    },
    {
      "cell_type": "code",
      "source": [
        "# Verificar mensagens pendentes no grupo 'mygroup'\n",
        "pendentes = r.xpending(\"mystream\", \"mygroup\")\n",
        "print(\"Mensagens pendentes: \", pendentes)\n"
      ],
      "metadata": {
        "id": "iGMM-vvVJSw3"
      },
      "execution_count": null,
      "outputs": []
    },
    {
      "cell_type": "markdown",
      "source": [
        "**Acho que o `Consumer 1` está se esquecendo de algo, certo?** 🧐🤔\n",
        "\n",
        "O comando `XACK` permite que um consumidor reconheça a conclusão do processamento de uma mensagem, removendo-a da lista de pendentes.\\\n",
        "**É assim que a gente sabe que deu tudo certo com o processamendo da mensagem pelo Consumer.**"
      ],
      "metadata": {
        "id": "j5U49LXAJcJt"
      }
    },
    {
      "cell_type": "code",
      "source": [
        "# Reconhecer uma mensagem processada pelo 'consumer1'\n",
        "r.xack(\"mystream\", \"mygroup\", \"1526569495631-0\")\n",
        "print(\"Mensagem reconhecida (acknowledged).\")"
      ],
      "metadata": {
        "id": "9uN8MFekKvq5"
      },
      "execution_count": null,
      "outputs": []
    },
    {
      "cell_type": "markdown",
      "source": [
        "### Trampo de Supervisão - Trabalhando com Consumer Groups e PEL\n",
        "\n",
        "Neste passo, vamos configurar um cenário completo com dois consumidores, onde um consumidor processa e reconhece uma mensagem, e verificamos a lista de mensagens pendentes (PEL). Em seguida, transferimos uma mensagem pendente de um consumidor para outro.\n",
        "\n",
        "Daí já reforçamos o conceito de uma vez!"
      ],
      "metadata": {
        "id": "Bbtxa3-9LGZ8"
      }
    },
    {
      "cell_type": "markdown",
      "source": [
        "#### Criar um Grupo de Consumidores e Adicionar Mensagens - Do Zero!"
      ],
      "metadata": {
        "id": "I-OFibSqLRng"
      }
    },
    {
      "cell_type": "code",
      "source": [
        "# Reinicializar a stream - comente esta linha para preservar dados existentes\n",
        "r.delete(\"mystream\")\n",
        "\n",
        "# Adicionar registros de SKU ao stream com limite de tamanho\n",
        "r.xadd(\"mystream\", {\"sku\": \"SKU123\", \"name\": \"Produto A\", \"price\": \"10.99\"}, maxlen=3, approximate=False)\n",
        "r.xadd(\"mystream\", {\"sku\": \"SKU124\", \"name\": \"Produto B\", \"price\": \"15.49\", \"discount\": \"5%\"}, maxlen=3, approximate=False)\n",
        "r.xadd(\"mystream\", {\"sku\": \"SKU125\", \"name\": \"Produto C\", \"price\": \"7.99\"}, maxlen=3, approximate=False)\n",
        "\n",
        "# Criar um grupo de consumidores no stream 'mystream'\n",
        "r.xgroup_create(\"mystream\", \"mygroup\", id=\"0\", mkstream=True)\n",
        "print(\"Grupo de consumidores 'mygroup' criado no stream 'mystream'.\")\n"
      ],
      "metadata": {
        "id": "itN01piOLQky"
      },
      "execution_count": null,
      "outputs": []
    },
    {
      "cell_type": "markdown",
      "source": [
        "#### Vida normal - mas com uma falha no processamento de um dos elementos\n",
        "\n",
        "Vamos criar um cenário onde o `Consumer 1` lê duas (2) mensagens, processa apenas uma e envia o `ACK` para essa única mensagem.\n",
        "\n",
        "Em seguida, usamos `XPENDING` e `XCLAIM` para transferir a mensagem pendente para o `Consumer 2`."
      ],
      "metadata": {
        "id": "8acfOdNUTXZy"
      }
    },
    {
      "cell_type": "code",
      "source": [
        "# Consumidor 'consumer1' lê duas mensagens do grupo 'mygroup' no stream 'mystream'\n",
        "entradas = r.xreadgroup(\"mygroup\", \"consumer1\", {\"mystream\": \">\"}, count=2, block=3000)\n",
        "print(\"Entradas lidas por consumer1: \")\n",
        "for entrada in entradas:\n",
        "    print(entrada)\n",
        "\n",
        "# Consumidor 'consumer1' reconhece a primeira mensagem processada\n",
        "msg_id_ack = entradas[0][1][0][0]\n",
        "r.xack(\"mystream\", \"mygroup\", msg_id_ack)\n",
        "print(f\"Mensagem {msg_id_ack} reconhecida (acknowledged) pelo consumer1.\")\n",
        "\n",
        "# Verificar mensagens pendentes antes da redistribuição\n",
        "pendentes = r.xpending(\"mystream\", \"mygroup\")\n",
        "print(\"Mensagens pendentes antes da redistribuição: \", pendentes)"
      ],
      "metadata": {
        "id": "d1gUV3h9TXC9"
      },
      "execution_count": null,
      "outputs": []
    },
    {
      "cell_type": "markdown",
      "source": [
        "#### PEL - Supervisor verifica e redistribui a mensagem pendente para o Consumer 2\n",
        "\n",
        "Vamos imaginar que já se passou o tempo máximo para processar aquela mensagem, uma regra nossa.\n",
        "\n",
        "**Neste caso, o `Consumer 1` entrou em Stall**. *Pode ser que tenha algo errado com ele, ou algo quebrou ao processar a última mensagem.*\\\n",
        "Portanto, vamos mandar essa mensagem pendente pro Consumer 2, e ver se ele consegue lidar com ela.\n",
        "\n",
        "**Explicação em detalhes do que vai acontecer no bloco a seguir:**\n",
        "\n",
        "\n",
        "1. **O Supervisor Verifica Mensagens Pendentes:** Usamos `XPENDING` para verificar mensagens pendentes. O critério do que é uma mensagem stalled é livre. Um segundo pode ser demais em alguns casos de uso.\n",
        "2. **Transferir Mensagem Pendente:** Com `XCLAIM`, transferimos a mensagem pendente do consumer1 para consumer2.\n",
        "3. **Consumidor 2 Lê Mensagens Pendentes e Novas:** consumer2 usa `XREADGROUP` para ler as mensagens pendentes e novas, garantindo que todas as mensagens sejam processadas. Cada consumer é uma maquininha de processar. Ela vai pegar a mensagem stalled e o que tiver que ser pego na stream (vc configura os parâmetros disso tbm)\n",
        "4. **Reconhecer Mensagens:** o consumer2 envia um `XACK` para reconhecer as mensagens processadas.\n",
        "5. **Verificar Lista de Pendências (PEL):** Verificamos a **PEL** antes e depois do reconhecimento das mensagens. Vamos exaurir essa lista, já que a stream é pequena e não está crescendo agora."
      ],
      "metadata": {
        "id": "DDCi_UX7T1-X"
      }
    },
    {
      "cell_type": "code",
      "source": [
        "# Supervisor verifica mensagens pendentes\n",
        "pendentes = r.xpending(\"mystream\", \"mygroup\")\n",
        "print(\"Mensagens pendentes: \", pendentes)\n",
        "\n",
        "# Verificar se há mensagens pendentes e redistribuir para 'consumer2'\n",
        "if pendentes['pending'] > 0:\n",
        "    # Obter a lista detalhada de mensagens pendentes\n",
        "    pendentes_detalhes = r.xpending_range(\"mystream\", \"mygroup\", \"-\", \"+\", 10)\n",
        "    for mensagem in pendentes_detalhes:\n",
        "        mensagem_id_pendente = mensagem['message_id']\n",
        "        consumidor_original = mensagem['consumer']\n",
        "\n",
        "        # Transferir a mensagem pendente para 'consumer2'\n",
        "        r.xclaim(\"mystream\", \"mygroup\", \"consumer2\", min_idle_time=0, message_ids=[mensagem_id_pendente])\n",
        "        print(f\"Mensagem {mensagem_id_pendente} transferida de '{consumidor_original}' para 'consumer2'.\")\n",
        "\n",
        "# Consumidor 2 lê as mensagens pendentes e novas do grupo\n",
        "entradas_consumer2 = r.xreadgroup(\"mygroup\", \"consumer2\", {\"mystream\": \"0\"}, count=2, block=3000)\n",
        "print(\"\")\n",
        "print(\"############################\")\n",
        "print(\"Entradas lidas por consumer2 após a redistribuição: \")\n",
        "for entrada in entradas_consumer2:\n",
        "    print(entrada)\n",
        "\n",
        "# Printa a pending List ANTES DO ACK\n",
        "print(\"\")\n",
        "print(\"############################\")\n",
        "print(\"PEL ANTES DO ACK DA PRIMEIRA MENSAGEM DO CONSUMER 2 - MANTENDO A ORDEM, SERIA O PRODUTO B: \")\n",
        "print(r.xpending(\"mystream\", \"mygroup\"))\n",
        "\n",
        "# Consumidor 2 manda o ack, tudo certo\n",
        "for entrada in entradas_consumer2[0][1]:\n",
        "    mensagem_id_pendente = entrada[0]\n",
        "    print(\"\")\n",
        "    print(\"############################\")\n",
        "    print(\"Dando ack na mensagem \", mensagem_id_pendente)\n",
        "    r.xack(\"mystream\", \"mygroup\", mensagem_id_pendente)\n",
        "\n",
        "# Printa a pending List\n",
        "print(\"\")\n",
        "print(\"############################\")\n",
        "print(\"PEL DEPOIS DO ACK - FICANDO APENAS A ÚLTIMA MENSAGEM - PRODUTO C: \")\n",
        "print(r.xpending(\"mystream\", \"mygroup\"))\n"
      ],
      "metadata": {
        "id": "LxeF2EFqT5M3"
      },
      "execution_count": null,
      "outputs": []
    },
    {
      "cell_type": "markdown",
      "source": [
        "# Parabéns!!!\n",
        "\n",
        "Neste workshop, exploramos como usar Redis Streams e grupos de consumidores para criar um sistema de mensagens robusto e escalável. Abordamos:\n",
        "\n",
        "- **Filas:** Criando e gerenciando filas com Redis Streams.\n",
        "- **Pub/Sub:** Publicação e assinatura de mensagens para comunicação em tempo real.\n",
        "- **Streams:** Adicionando, lendo e gerenciando mensagens com XADD, XREAD, XRANGE, XREVRANGE.\n",
        "- **Grupos de Consumidores:** Processamento coordenado de mensagens com XREADGROUP, XCLAIM e XPENDING.\n",
        "\n",
        "Esperamos que este conteúdo tenha fornecido uma visão clara de como implementar sistemas de mensageria eficientes usando Redis. Se tiver dúvidas ou quiser explorar mais,"
      ],
      "metadata": {
        "id": "f8GPlnMnmx8b"
      }
    }
  ]
}