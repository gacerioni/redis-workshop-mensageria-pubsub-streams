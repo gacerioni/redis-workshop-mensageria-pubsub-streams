{
  "nbformat": 4,
  "nbformat_minor": 0,
  "metadata": {
    "colab": {
      "provenance": [],
      "authorship_tag": "ABX9TyNrn56EcM4dzxVznEYf9zDW",
      "include_colab_link": true
    },
    "kernelspec": {
      "name": "python3",
      "display_name": "Python 3"
    },
    "language_info": {
      "name": "python"
    }
  },
  "cells": [
    {
      "cell_type": "markdown",
      "metadata": {
        "id": "view-in-github",
        "colab_type": "text"
      },
      "source": [
        "<a href=\"https://colab.research.google.com/github/gacerioni/redis-workshop-mensageria-pubsub-streams/blob/master/redis_workshop_mensageria_pubsub_streams.ipynb\" target=\"_parent\"><img src=\"https://colab.research.google.com/assets/colab-badge.svg\" alt=\"Open In Colab\"/></a>"
      ]
    },
    {
      "cell_type": "markdown",
      "source": [
        "# Workshop - Mensageria com Listas, Pub/Sub e Streams\n",
        "\n",
        "![Redis](https://redis.io/wp-content/uploads/2024/04/Logotype.svg?auto=webp&quality=85,75&width=120)\n",
        "\n",
        "\n",
        "Bem-vind[ao]s ao Workshop! Vamos explorar como utilizar o Redis para mensageria e comunicação eficiente entre serviços. Vamos começar com o conceito de filas, avançando para Pub/Sub e Streams.\n",
        "\n",
        "Para uma experiência premium, como a que eu quero que vocês tenham, recomendo MUITO utilizar o Redis Insight (App ou Web) pra apoiar na visualização dos dados.\n",
        "\n",
        "https://redis.com/redis-enterprise/redis-insight/"
      ],
      "metadata": {
        "id": "PaDrL0yr4JMD"
      }
    },
    {
      "cell_type": "markdown",
      "source": [
        "## Objetivos do Workshop\n",
        "\n",
        "Este notebook irá fazer uma introdução ao uso de listas no Redis para implementar filas de mensagens. Em seguida, exploraremos o Pub/Sub e Streams para comunicação em tempo real e processamento de dados.\n",
        "\n",
        "\n",
        "\n",
        "Espero que gostem! 🖖"
      ],
      "metadata": {
        "id": "VOaVxLxn4W99"
      }
    },
    {
      "cell_type": "markdown",
      "source": [
        "## Setup Rápido - e testes pra ver se tá tudo redondo antes de iniciar o lab"
      ],
      "metadata": {
        "id": "xaMxm7Hk4e_q"
      }
    },
    {
      "cell_type": "code",
      "execution_count": 12,
      "metadata": {
        "colab": {
          "base_uri": "https://localhost:8080/"
        },
        "id": "7eUyLPIt4B90",
        "outputId": "5d64d6e0-d4bf-4539-e837-3a0c0ee505ec"
      },
      "outputs": [
        {
          "output_type": "stream",
          "name": "stdout",
          "text": [
            "\r0% [Working]\r            \rHit:1 http://archive.ubuntu.com/ubuntu jammy InRelease\n",
            "\r0% [Waiting for headers] [Waiting for headers] [Connected to cloud.r-project.org (108.157.173.97)] [\r                                                                                                    \rHit:2 http://archive.ubuntu.com/ubuntu jammy-updates InRelease\n",
            "\r                                                                                                    \rHit:3 http://security.ubuntu.com/ubuntu jammy-security InRelease\n",
            "\r0% [Waiting for headers] [Connected to cloud.r-project.org (108.157.173.97)] [Connecting to ppa.laun\r                                                                                                    \rHit:4 http://archive.ubuntu.com/ubuntu jammy-backports InRelease\n",
            "\r0% [Waiting for headers] [Connecting to ppa.launchpadcontent.net (185.125.190.80)] [Waiting for head\r                                                                                                    \rHit:5 https://cloud.r-project.org/bin/linux/ubuntu jammy-cran40/ InRelease\n",
            "Hit:6 https://developer.download.nvidia.com/compute/cuda/repos/ubuntu2204/x86_64  InRelease\n",
            "Hit:7 https://ppa.launchpadcontent.net/c2d4u.team/c2d4u4.0+/ubuntu jammy InRelease\n",
            "Hit:8 https://ppa.launchpadcontent.net/deadsnakes/ppa/ubuntu jammy InRelease\n",
            "Hit:9 https://ppa.launchpadcontent.net/graphics-drivers/ppa/ubuntu jammy InRelease\n",
            "Hit:10 https://ppa.launchpadcontent.net/ubuntugis/ppa/ubuntu jammy InRelease\n",
            "Reading package lists... Done\n",
            "Reading package lists... Done\n",
            "Building dependency tree... Done\n",
            "Reading state information... Done\n",
            "redis-tools is already the newest version (5:6.0.16-1ubuntu1).\n",
            "0 upgraded, 0 newly installed, 0 to remove and 53 not upgraded.\n"
          ]
        }
      ],
      "source": [
        "# Vamos instalar a lib do redis escolhida para o teste\n",
        "!pip install -q redis\n",
        "\n",
        "# E instalar a CLI, via redis-tools, que inclui a famosa redis-cli\n",
        "!apt-get update\n",
        "!apt-get install -y redis-tools"
      ]
    },
    {
      "cell_type": "markdown",
      "source": [
        "#### Configurando e testando a conexão com o seu Redis Cloud\n",
        "\n",
        "Coloque o endpoint host, port, e as credenciais pertinentes ao seu setup.\n",
        "\n",
        "Vou deixar o meu DB mesmo aqui, como referência."
      ],
      "metadata": {
        "id": "yuyjjRs7_o7g"
      }
    },
    {
      "cell_type": "code",
      "source": [
        "# Testando a redis-cli\n",
        "import os\n",
        "\n",
        "# Coloque aqui os dados do seu DB do Redis Cloud\n",
        "REDIS_HOST=\"redis-19581.c308.sa-east-1-1.ec2.redns.redis-cloud.com\"\n",
        "REDIS_PORT=19581\n",
        "REDIS_PASSWORD=\"nhtuquVSLbh2kUt2I86z5QwGu3KrcaYx\"\n",
        "\n",
        "# Caso o SSL esteja ativo pro endpoint, adicione --tls\n",
        "# Recomendo não misturar lé com cré aqui, visto que não vamos ter nenhuma informação sensível passando pelo fio.\n",
        "if REDIS_PASSWORD!=\"\":\n",
        "  os.environ[\"REDIS_CONN\"]=f\"-h {REDIS_HOST} -p {REDIS_PORT} -a {REDIS_PASSWORD} --no-auth-warning\"\n",
        "else:\n",
        "  os.environ[\"REDIS_CONN\"]=f\"-h {REDIS_HOST} -p {REDIS_PORT}\"\n",
        "\n",
        "# Caso o SSL esteja ativo pro endpoint, use rediss:// como o URL prefix\n",
        "REDIS_URL = f\"redis://:{REDIS_PASSWORD}@{REDIS_HOST}:{REDIS_PORT}\"\n",
        "INDEX_NAME = f\"qna:idx\"\n",
        "\n",
        "# Test a Redis connection\n",
        "!redis-cli $REDIS_CONN PING\n",
        "\n",
        "# DANGER ZONE - CASO QUEIRA DAR UM REFRESH GERAL\n",
        "# este comando abaixo ficará comentado, pois ele deleta todos os dados da sua base do Redis Cloud\n",
        "!redis-cli $REDIS_CONN FLUSHDB"
      ],
      "metadata": {
        "colab": {
          "base_uri": "https://localhost:8080/"
        },
        "id": "1SuKwfQl_q-y",
        "outputId": "ff6c1ecc-1c2e-4865-dfbc-5b80d9c01d72"
      },
      "execution_count": 13,
      "outputs": [
        {
          "output_type": "stream",
          "name": "stdout",
          "text": [
            "PONG\n",
            "OK\n"
          ]
        }
      ]
    },
    {
      "cell_type": "code",
      "source": [
        "# Testando via Python (redis-py)\n",
        "import redis\n",
        "r = redis.Redis(\n",
        "  host=REDIS_HOST,\n",
        "  port=REDIS_PORT,\n",
        "  password=REDIS_PASSWORD,\n",
        "  decode_responses=True)\n",
        "r.ping()"
      ],
      "metadata": {
        "colab": {
          "base_uri": "https://localhost:8080/"
        },
        "id": "8zEP3io8_sjl",
        "outputId": "cf19fa41-00f0-4e92-93d3-262cb573cabc"
      },
      "execution_count": 14,
      "outputs": [
        {
          "output_type": "execute_result",
          "data": {
            "text/plain": [
              "True"
            ]
          },
          "metadata": {},
          "execution_count": 14
        }
      ]
    },
    {
      "cell_type": "markdown",
      "source": [
        "# Parte Um - Introdução às Filas no Redis\n",
        "\n",
        "**Filas são uma estrutura de dados fundamental para a comunicação assíncrona entre serviços.**\\\n",
        "\n",
        "Em ciência da computação, uma fila é uma coleção de entidades mantidas em uma sequência, onde elementos são adicionados em uma extremidade da sequência e removidos da outra. Esta característica é conhecida como FIFO (First In, First Out), o que significa que o primeiro elemento adicionado à fila é o primeiro a ser removido.\n",
        "\n",
        "Filas são amplamente utilizadas na programação para organizar tarefas de forma sequencial. Um exemplo moderno é um sistema de venda de ingressos de futebol, onde os pedidos são enfileirados e processados na ordem em que são recebidos, garantindo que cada cliente receba seu ingresso corretamente e na sequência certa.\n"
      ],
      "metadata": {
        "id": "x2MEEdetAzxA"
      }
    },
    {
      "cell_type": "markdown",
      "source": [
        "![pubsub_menu.png](data:image/png;base64,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)## Criando uma Fila no Redis\n",
        "\n",
        "No Redis, usamos listas para implementar filas. Vamos começar criando uma fila e adicionando algumas mensagens."
      ],
      "metadata": {
        "id": "TrdUsK0NCAkH"
      }
    },
    {
      "cell_type": "code",
      "source": [
        "# Deletar a fila caso já exista, só pra não confundir a gente\n",
        "r.delete(\"minhafila\")\n",
        "\n",
        "# Adicionar elementos à fila (enqueue)\n",
        "r.lpush(\"minhafila\", \"Tarefa 1\")\n",
        "r.lpush(\"minhafila\", \"Tarefa 2\")\n",
        "r.lpush(\"minhafila\", \"Tarefa 3\")\n",
        "r.lpush(\"minhafila\", \"Tarefa 4\")\n",
        "r.lpush(\"minhafila\", \"Tarefa 5\")\n",
        "\n",
        "# Verificar os elementos na fila\n",
        "print(r.lrange(\"minhafila\", 0, -1))"
      ],
      "metadata": {
        "colab": {
          "base_uri": "https://localhost:8080/"
        },
        "id": "soygXcrdCOqZ",
        "outputId": "b4c8c9da-2de7-4b26-f191-1effa0c0bf05"
      },
      "execution_count": 15,
      "outputs": [
        {
          "output_type": "stream",
          "name": "stdout",
          "text": [
            "['Tarefa 5', 'Tarefa 4', 'Tarefa 3', 'Tarefa 2', 'Tarefa 1']\n"
          ]
        }
      ]
    },
    {
      "cell_type": "markdown",
      "source": [
        "Neste exemplo, usamos o comando LPUSH para adicionar elementos à fila chamada \"minhafila\". Verificamos os elementos na fila usando o comando LRANGE, que retorna todos os elementos da lista."
      ],
      "metadata": {
        "id": "IcbMbpcoCc8a"
      }
    },
    {
      "cell_type": "markdown",
      "source": [
        "## Consumo de Mensagens/Elementos da Fila  (Dequeue)\n",
        "\n",
        "Depois de adicionar mensagens à fila, precisamos consumir essas mensagens para processá-las.\n",
        "\n",
        "O Redis oferece o comando `RPOP` para remover e retornar o último elemento da lista, seguindo a ordem **FIFO** (first-in-first-out)"
      ],
      "metadata": {
        "id": "pKWzpgXZCekM"
      }
    },
    {
      "cell_type": "code",
      "source": [
        "# Remover e consumir o próximo elemento da fila (dequeue)\n",
        "mensagem = r.rpop(\"minhafila\")\n",
        "print(f\"Mensagem consumida: {mensagem}\")\n",
        "\n",
        "# Verificar os elementos restantes na fila\n",
        "print(r.lrange(\"minhafila\", 0, -1))\n",
        "\n",
        "# execute algumas vezes, para vc entender como a fila está sendo consumida e exaurida ao mesmo tempo"
      ],
      "metadata": {
        "colab": {
          "base_uri": "https://localhost:8080/"
        },
        "id": "r2p086NQDR4R",
        "outputId": "5b75ea54-24f8-446d-8c1a-7a2990814af3"
      },
      "execution_count": 16,
      "outputs": [
        {
          "output_type": "stream",
          "name": "stdout",
          "text": [
            "Mensagem consumida: Tarefa 1\n",
            "['Tarefa 5', 'Tarefa 4', 'Tarefa 3', 'Tarefa 2']\n"
          ]
        }
      ]
    },
    {
      "cell_type": "markdown",
      "source": [
        "### 🤓 Vamos adicionar um exemplo mais prático e interessante!\n",
        "\n",
        "Imagine que estamos processando pedidos de ingressos para um jogo de futebol. Cada mensagem na fila representa um pedido de ingresso que precisa ser processado."
      ],
      "metadata": {
        "id": "ULKUiybtRSaE"
      }
    },
    {
      "cell_type": "code",
      "source": [
        "import time\n",
        "# Populando nossa lista com alguns pedidos de tickets novos\n",
        "r.lpush(\"tickets:futeborrrr:fila\", \"Pedido 1\",  \"Pedido 2\",  \"Pedido 3\",  \"Pedido 4\",  \"Pedido 5\",  \"Pedido 6\")\n",
        "\n",
        "##### INICIO DO ROBOZINHO SIMPLES QUE PROCESSA OS PEDIDOS\n",
        "\n",
        "# Processar pedidos de ingressos\n",
        "def processar_pedido(pedido):\n",
        "    time.sleep(0.5)\n",
        "    print(f\"Processando pedido: {pedido}\")\n",
        "\n",
        "# Consumir e processar mensagens na fila\n",
        "while True:\n",
        "    pedido = r.rpop(\"tickets:futeborrrr:fila\")\n",
        "    if not pedido:\n",
        "        print(\"Nenhum pedido pendente.\")\n",
        "        break\n",
        "    processar_pedido(pedido)\n",
        "\n",
        "# Verificar os elementos restantes na fila\n",
        "print(r.lrange(\"tickets:futeborrrr:fila\", 0, -1))\n"
      ],
      "metadata": {
        "id": "ofyU_qMSR5ma",
        "outputId": "a30ccc21-e8ca-4fa8-8f20-090aaf49ce64",
        "colab": {
          "base_uri": "https://localhost:8080/"
        }
      },
      "execution_count": 17,
      "outputs": [
        {
          "output_type": "stream",
          "name": "stdout",
          "text": [
            "Processando pedido: Pedido 1\n",
            "Processando pedido: Pedido 2\n",
            "Processando pedido: Pedido 3\n",
            "Processando pedido: Pedido 4\n",
            "Processando pedido: Pedido 5\n",
            "Processando pedido: Pedido 6\n",
            "Nenhum pedido pendente.\n",
            "[]\n"
          ]
        }
      ]
    },
    {
      "cell_type": "markdown",
      "source": [
        "Neste código, definimos uma função processar_pedido que simula o processamento de um pedido. Em seguida, usamos um loop para consumir e processar todas as mensagens na fila \"minhafila\" até que ela esteja vazia.\n",
        "\n",
        "Com isso, você aprendeu a consumir mensagens de uma fila no Redis, removendo e processando cada mensagem na ordem correta. Vamos continuar com os próximos passos, como visualizar (peek) e implementar filas confiáveis, em blocos subsequentes."
      ],
      "metadata": {
        "id": "X03fFhiqTwK9"
      }
    },
    {
      "cell_type": "markdown",
      "source": [
        "## Visualizando os elementos da fila (Peek)\n",
        "\n",
        "A operação de \"peek\" permite visualizar os elementos na fila sem removê-los. Isso pode ser útil para verificar o próximo item a ser processado ou para inspecionar o estado atual da fila.\n",
        "\n"
      ],
      "metadata": {
        "id": "8N4EpxMrUoTb"
      }
    },
    {
      "cell_type": "code",
      "source": [
        "fila = \"tickets:futeborrrr:filapeek\"\n",
        "\n",
        "# Popular uma fila pra testar o peek\n",
        "r.lpush(fila, \"Pedido 1\",  \"Pedido 2\",  \"Pedido 3\",  \"Pedido 4\",  \"Pedido 5\",  \"Pedido 6\")\n",
        "\n",
        "# Visualizar o próximo elemento da fila (peek)\n",
        "proximo_elemento = r.lrange(fila, -1, -1)\n",
        "print(f\"Próximo elemento a ser processado: {proximo_elemento}\")\n",
        "\n",
        "# Visualizar os três últimos elementos da fila\n",
        "tres_ultimos_elementos = r.lrange(fila, -3, -1)\n",
        "print(f\"Três últimos elementos na fila: {tres_ultimos_elementos}\")\n",
        "\n",
        "# Visualizar todos os elementos na fila\n",
        "todos_elementos = r.lrange(fila, 0, -1)\n",
        "print(f\"Todos os elementos na fila: {todos_elementos}\")"
      ],
      "metadata": {
        "colab": {
          "base_uri": "https://localhost:8080/"
        },
        "id": "GQba-ppbUzVj",
        "outputId": "0a82eb7e-9745-4628-8c42-64ac2a2911c8"
      },
      "execution_count": 21,
      "outputs": [
        {
          "output_type": "stream",
          "name": "stdout",
          "text": [
            "Próximo elemento a ser processado: ['Pedido 1']\n",
            "Três últimos elementos na fila: ['Pedido 3', 'Pedido 2', 'Pedido 1']\n",
            "Todos os elementos na fila: ['Pedido 6', 'Pedido 5', 'Pedido 4', 'Pedido 3', 'Pedido 2', 'Pedido 1', 'Pedido 6', 'Pedido 5', 'Pedido 4', 'Pedido 3', 'Pedido 2', 'Pedido 1', 'Pedido 6', 'Pedido 5', 'Pedido 4', 'Pedido 3', 'Pedido 2', 'Pedido 1']\n"
          ]
        }
      ]
    },
    {
      "cell_type": "markdown",
      "source": [
        "## Implementando Filas Confiáveis\n",
        "\n",
        "Para garantir que mensagens não sejam perdidas se um consumidor falhar, podemos implementar filas confiáveis no Redis. Isso envolve mover as mensagens para uma fila temporária até que o processamento seja confirmado."
      ],
      "metadata": {
        "id": "VPUBkQ5rVZ11"
      }
    },
    {
      "cell_type": "markdown",
      "source": [
        "### Pegar uma mensagem/elemento da fila para processar, enquanto a move para uma fila temporária - como uma triagem"
      ],
      "metadata": {
        "id": "6IdFIDjmVmJ6"
      }
    },
    {
      "cell_type": "code",
      "source": [
        "# Use este bloco para iniciar ou resetar as filas deste exercicio\n",
        "r.delete(\"tickets:counterstrike2:fila_primaria\")\n",
        "r.delete(\"tickets:counterstrike2:fila_temporaria\")\n",
        "r.lpush(\"tickets:counterstrike2:fila_primaria\", \"Pessoa 1\", \"Pessoa 2\", \"Pessoa 3\", \"Pessoa 4\", \"Pessoa 5\")"
      ],
      "metadata": {
        "colab": {
          "base_uri": "https://localhost:8080/"
        },
        "id": "cpEdN_9UVkWy",
        "outputId": "ce98550a-4926-4956-edbf-7762b633d6f7"
      },
      "execution_count": 46,
      "outputs": [
        {
          "output_type": "execute_result",
          "data": {
            "text/plain": [
              "5"
            ]
          },
          "metadata": {},
          "execution_count": 46
        }
      ]
    },
    {
      "cell_type": "code",
      "source": [
        "# Aqui já pegamos uma mensagem para processar, enquanto a movemos da fila principal para uma fila temporária\n",
        "mensagem_a_ser_processada = r.rpoplpush(\"tickets:counterstrike2:fila_primaria\", \"tickets:counterstrike2:fila_temporaria\")\n",
        "\n",
        "print(\"Elemento da fila que será processado: {0}\".format(mensagem_a_ser_processada))"
      ],
      "metadata": {
        "colab": {
          "base_uri": "https://localhost:8080/"
        },
        "id": "j4mswRkvWTCx",
        "outputId": "6fc65264-bb59-4e94-e2a4-0a70ae13b3df"
      },
      "execution_count": 47,
      "outputs": [
        {
          "output_type": "stream",
          "name": "stdout",
          "text": [
            "Elemento da fila que será processado: Pessoa 1\n"
          ]
        }
      ]
    },
    {
      "cell_type": "code",
      "source": [
        "# E o elemento fica na temporaria enquanto o servico esta fazendo o que precisa fazer\n",
        "r.lrange(\"tickets:counterstrike2:fila_temporaria\", 0, -1)"
      ],
      "metadata": {
        "colab": {
          "base_uri": "https://localhost:8080/"
        },
        "id": "p9o_VNqGW1fR",
        "outputId": "3df14d98-c711-47a3-952d-aa900c9a42db"
      },
      "execution_count": 48,
      "outputs": [
        {
          "output_type": "execute_result",
          "data": {
            "text/plain": [
              "['Pessoa 1']"
            ]
          },
          "metadata": {},
          "execution_count": 48
        }
      ]
    },
    {
      "cell_type": "markdown",
      "source": [
        "### Confirmar o Processamento de uma Mensagem\n",
        "Caso esteja tudo certo, você vai e apaga a mensagem da fila temporária, finalizando a triagem.\n",
        "\n"
      ],
      "metadata": {
        "id": "p3NaOQfiYCvv"
      }
    },
    {
      "cell_type": "code",
      "source": [
        "# Após processar a mensagem, removê-la da fila temporária\n",
        "r.lrem(\"tickets:counterstrike2:fila_temporaria\", 1, mensagem_a_ser_processada)"
      ],
      "metadata": {
        "colab": {
          "base_uri": "https://localhost:8080/"
        },
        "id": "taIQD8dkYjy2",
        "outputId": "e2533581-0e2c-4fdc-8709-7162cac2a11f"
      },
      "execution_count": 45,
      "outputs": [
        {
          "output_type": "execute_result",
          "data": {
            "text/plain": [
              "1"
            ]
          },
          "metadata": {},
          "execution_count": 45
        }
      ]
    },
    {
      "cell_type": "markdown",
      "source": [
        "# Parte Dois - Vamos ver o Pub/Sub no Redis\n",
        "\n",
        "## Introdução ao Pub/Sub no Redis\n",
        "\n",
        "O padrão Publish/Subscribe (Pub/Sub) no Redis é uma poderosa ferramenta de mensageria que permite a comunicação eficiente entre serviços. Diferente de filas tradicionais, onde mensagens são enviadas diretamente de um produtor para um consumidor, o Pub/Sub permite que mensagens sejam publicadas em canais específicos e consumidas por múltiplos assinantes. Isso é especialmente útil em cenários onde a mesma mensagem precisa ser entregue a vários consumidores simultaneamente, como em sistemas de notificações em tempo real.\n",
        "\n",
        "Neste tutorial, aprenderemos como configurar e usar o Pub/Sub no Redis. Começaremos com exemplos simples de publicação e consumo de mensagens, e avançaremos para um caso de uso mais complexo com múltiplos consumidores. Através de exercícios práticos, você entenderá como o Pub/Sub pode ser utilizado para criar sistemas de comunicação escaláveis e desacoplados."
      ],
      "metadata": {
        "id": "IBCw2Ys_gerY"
      }
    },
    {
      "cell_type": "markdown",
      "source": [
        "## Configurando Pub/Sub no Redis\n",
        "\n",
        "Vamos com um exemplo simples de Pub/Sub, onde um produtor publica mensagens em um canal e um consumidor se inscreve para receber essas mensagens.\n",
        "\n",
        "🔊 Bem na pegada fire-and-forget: não estava lá pra ouvir... perdeu!\\\n",
        "*E isso é o ideal, ok? Depois vamos ver Streams, não se preocupem!*\n",
        "\n",
        "### Consumidor Assinando um Canal no Redis"
      ],
      "metadata": {
        "id": "gom1pqgug8-o"
      }
    },
    {
      "cell_type": "code",
      "source": [
        "# Vamos usar threading apenas pq o consumer precisa ficar rodando sem bloquear o Colab, ok?\n",
        "\n",
        "# Conectar-se ao Redis, só pra ter certeza que a connection com o db está ok\n",
        "import redis\n",
        "r = redis.Redis(\n",
        "  host=REDIS_HOST,\n",
        "  port=REDIS_PORT,\n",
        "  password=REDIS_PASSWORD,\n",
        "  decode_responses=True)\n",
        "\n",
        "def consumidor():\n",
        "    pubsub = r.pubsub()\n",
        "    pubsub.subscribe('meucanal')\n",
        "    for mensagem in pubsub.listen():\n",
        "        if mensagem['type'] == 'message':\n",
        "            print(f\"Mensagem recebida: {mensagem['data']}\")\n",
        "\n",
        "# Iniciar o consumidor em uma thread separada para não bloquear o notebook\n",
        "import threading\n",
        "consumidor_thread = threading.Thread(target=consumidor)\n",
        "consumidor_thread.start()"
      ],
      "metadata": {
        "id": "JRTWqKbfheQ4"
      },
      "execution_count": 49,
      "outputs": []
    },
    {
      "cell_type": "markdown",
      "source": [
        "### Produtor enviando mensagens no canal de pub/sub recém-criado"
      ],
      "metadata": {
        "id": "BSpFb3BUiJJn"
      }
    },
    {
      "cell_type": "code",
      "source": [
        "# Publicar uma mensagem no canal\n",
        "r.publish('meucanal', 'Tranquilidade, galera?')\n",
        "\n",
        "# Note que o Threading do Python aqui vai jogar pro processo principal;\n",
        "#   com isso, a mensagem vai sair aqui mesmo!\n",
        "# Em produção, imagine que são dois sitemas completamente apartados."
      ],
      "metadata": {
        "colab": {
          "base_uri": "https://localhost:8080/"
        },
        "id": "RDngSSZZiP1q",
        "outputId": "40b9a8b2-8fcc-4b4d-aa0b-28237923fd6b"
      },
      "execution_count": 57,
      "outputs": [
        {
          "output_type": "execute_result",
          "data": {
            "text/plain": [
              "2"
            ]
          },
          "metadata": {},
          "execution_count": 57
        },
        {
          "output_type": "stream",
          "name": "stdout",
          "text": [
            "Mensagem recebida: Tranquilidade, galera?\n"
          ]
        }
      ]
    },
    {
      "cell_type": "markdown",
      "source": [
        "### Trocando de Ferramenta - Vamos ver Pub/Sub no Redis Insight!\n",
        "\n",
        "Como vocês notaram, o Threading do Python vai acabar jogando a mensagem na tela assim que ela for publicada pelo publisher.\n",
        "\n",
        "**Porém, vamos ver isso no Redis Insight agora. Vai clarear bastante!**\n",
        "\n",
        "1-) Abra o Redis Insight no seu PC e se conecte com o database que está usando aqui. Provavelmente um Redis Cloud Free mesmo.\n",
        "\n",
        "2-) Feito isso, abra o menu de Pub/Sub, no canto esquerdo da GUI:\n",
        "![](https://github.com/gacerioni/redis-workshop-mensageria-pubsub-streams/blob/master/static/pubsub_menu.png?raw=true)\n",
        "\n",
        "3-) Clique em **Subscribe**, o botão azul do lado superior direito da GUI\n",
        "\n",
        "4-) E agora publique algumas mensagens:\n",
        " - tanto por aqui no Colab (basta rodar o bloco acima algumas vezes, mudando a mensagem\n",
        " - quanto direto no Redis Insight, pra vocês testarem por lá também.\n",
        "\n",
        "\n",
        "![](https://github.com/gacerioni/redis-workshop-mensageria-pubsub-streams/blob/master/static/pubsub_demo.png?raw=true)\n"
      ],
      "metadata": {
        "id": "uGhYvNRYk1Yp"
      }
    },
    {
      "cell_type": "markdown",
      "source": [
        "# Parte Três - Finalmente Streams!!!"
      ],
      "metadata": {
        "id": "TlkSNTZZLdd-"
      }
    }
  ]
}