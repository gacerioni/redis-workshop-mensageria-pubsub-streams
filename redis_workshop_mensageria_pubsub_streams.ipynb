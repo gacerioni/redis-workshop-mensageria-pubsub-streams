{
  "nbformat": 4,
  "nbformat_minor": 0,
  "metadata": {
    "colab": {
      "provenance": [],
      "authorship_tag": "ABX9TyPBcAhqCixTFZkVkBdWwvzL",
      "include_colab_link": true
    },
    "kernelspec": {
      "name": "python3",
      "display_name": "Python 3"
    },
    "language_info": {
      "name": "python"
    }
  },
  "cells": [
    {
      "cell_type": "markdown",
      "metadata": {
        "id": "view-in-github",
        "colab_type": "text"
      },
      "source": [
        "<a href=\"https://colab.research.google.com/github/gacerioni/redis-workshop-mensageria-pubsub-streams/blob/master/redis_workshop_mensageria_pubsub_streams.ipynb\" target=\"_parent\"><img src=\"https://colab.research.google.com/assets/colab-badge.svg\" alt=\"Open In Colab\"/></a>"
      ]
    },
    {
      "cell_type": "markdown",
      "source": [
        "# Workshop - Mensageria com Listas, Pub/Sub e Streams\n",
        "\n",
        "![Redis](https://redis.io/wp-content/uploads/2024/04/Logotype.svg?auto=webp&quality=85,75&width=120)\n",
        "\n",
        "\n",
        "Bem-vind[ao]s ao Workshop! Vamos explorar como utilizar o Redis para mensageria e comunicação eficiente entre serviços. Vamos começar com o conceito de filas, avançando para Pub/Sub e Streams.\n",
        "\n",
        "Para uma experiência premium, como a que eu quero que vocês tenham, recomendo MUITO utilizar o Redis Insight (App ou Web) pra apoiar na visualização dos dados.\n",
        "\n",
        "https://redis.com/redis-enterprise/redis-insight/"
      ],
      "metadata": {
        "id": "PaDrL0yr4JMD"
      }
    },
    {
      "cell_type": "markdown",
      "source": [
        "## Objetivos do Workshop\n",
        "\n",
        "Este notebook irá fazer uma introdução ao uso de listas no Redis para implementar filas de mensagens. Em seguida, exploraremos o Pub/Sub e Streams para comunicação em tempo real e processamento de dados.\n",
        "\n",
        "Espero que gostem! 🖖"
      ],
      "metadata": {
        "id": "VOaVxLxn4W99"
      }
    },
    {
      "cell_type": "markdown",
      "source": [
        "## Setup Rápido - e testes pra ver se tá tudo redondo antes de iniciar o lab"
      ],
      "metadata": {
        "id": "xaMxm7Hk4e_q"
      }
    },
    {
      "cell_type": "code",
      "execution_count": null,
      "metadata": {
        "id": "7eUyLPIt4B90"
      },
      "outputs": [],
      "source": [
        "# Vamos instalar a lib do redis escolhida para o teste\n",
        "!pip install -q redis\n",
        "\n",
        "# E instalar a CLI, via redis-tools, que inclui a famosa redis-cli\n",
        "!apt-get update\n",
        "!apt-get install -y redis-tools"
      ]
    },
    {
      "cell_type": "markdown",
      "source": [
        "#### Configurando e testando a conexão com o seu Redis Cloud\n",
        "\n",
        "Coloque o endpoint host, port, e as credenciais pertinentes ao seu setup.\n",
        "\n",
        "Vou deixar o meu DB mesmo aqui, como referência."
      ],
      "metadata": {
        "id": "yuyjjRs7_o7g"
      }
    },
    {
      "cell_type": "code",
      "source": [
        "# Testando a redis-cli\n",
        "import os\n",
        "\n",
        "# Coloque aqui os dados do seu DB do Redis Cloud\n",
        "REDIS_HOST=\"redis-19581.c308.sa-east-1-1.ec2.redns.redis-cloud.com\"\n",
        "REDIS_PORT=19581\n",
        "REDIS_PASSWORD=\"nhtuquVSLbh2kUt2I86z5QwGu3KrcaYx\"\n",
        "\n",
        "# Caso o SSL esteja ativo pro endpoint, adicione --tls\n",
        "# Recomendo não misturar lé com cré aqui, visto que não vamos ter nenhuma informação sensível passando pelo fio.\n",
        "if REDIS_PASSWORD!=\"\":\n",
        "  os.environ[\"REDIS_CONN\"]=f\"-h {REDIS_HOST} -p {REDIS_PORT} -a {REDIS_PASSWORD} --no-auth-warning\"\n",
        "else:\n",
        "  os.environ[\"REDIS_CONN\"]=f\"-h {REDIS_HOST} -p {REDIS_PORT}\"\n",
        "\n",
        "# Caso o SSL esteja ativo pro endpoint, use rediss:// como o URL prefix\n",
        "REDIS_URL = f\"redis://:{REDIS_PASSWORD}@{REDIS_HOST}:{REDIS_PORT}\"\n",
        "INDEX_NAME = f\"qna:idx\"\n",
        "\n",
        "# Test a Redis connection\n",
        "!redis-cli $REDIS_CONN PING\n",
        "\n",
        "# DANGER ZONE - CASO QUEIRA DAR UM REFRESH GERAL\n",
        "# este comando abaixo ficará comentado, pois ele deleta todos os dados da sua base do Redis Cloud\n",
        "!redis-cli $REDIS_CONN FLUSHDB"
      ],
      "metadata": {
        "id": "1SuKwfQl_q-y"
      },
      "execution_count": null,
      "outputs": []
    },
    {
      "cell_type": "code",
      "source": [
        "# Testando via Python (redis-py)\n",
        "import redis\n",
        "r = redis.Redis(\n",
        "  host=REDIS_HOST,\n",
        "  port=REDIS_PORT,\n",
        "  password=REDIS_PASSWORD)\n",
        "r.ping()"
      ],
      "metadata": {
        "id": "8zEP3io8_sjl"
      },
      "execution_count": null,
      "outputs": []
    }
  ]
}